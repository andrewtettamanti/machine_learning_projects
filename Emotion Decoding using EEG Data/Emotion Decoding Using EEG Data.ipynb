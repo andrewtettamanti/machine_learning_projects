{
  "cells": [
    {
      "cell_type": "markdown",
      "id": "c76bd7e6",
      "metadata": {
        "id": "c76bd7e6"
      },
      "source": [
        "# Lab 9 Report: \n",
        "## FINAL PROJECT STRATEGIC PLANNING"
      ]
    },
    {
      "cell_type": "markdown",
      "id": "3f5ed902",
      "metadata": {
        "id": "3f5ed902"
      },
      "source": [
        "### Lab 9 Instruction: https://canvas.uw.edu/courses/1548925/files/92225287?wrap=1"
      ]
    },
    {
      "cell_type": "markdown",
      "id": "0098c149",
      "metadata": {
        "id": "0098c149"
      },
      "source": [
        "### Team Members: Sam Ayars, Andrew Tettamanti"
      ]
    },
    {
      "cell_type": "markdown",
      "id": "36869478",
      "metadata": {
        "id": "36869478"
      },
      "source": [
        "### Dataset for your project: Emotion Decoding from EEG"
      ]
    },
    {
      "cell_type": "markdown",
      "id": "3fe993be",
      "metadata": {
        "id": "3fe993be"
      },
      "source": [
        "---"
      ]
    },
    {
      "cell_type": "markdown",
      "source": [
        "## Reflecting After the Poster Session\n",
        "\n",
        "The poster session allowed us to reflect on the how-to better compare the results of our FCN and RNN models. For example, instead of just plotting our training loss function, we used 150 samples of our training data for validation. This gave us a better picture of our training accuracy per epoch in the FCN and RNN. \n",
        "\n",
        "Initially, we compared our RNN to our FCN using only our filtered features for training and testing. Then, to get a better baseline of how these filtered features changed the accuracy and training times, we added an FCN that did not filter any features. This model added two hidden layers, reduced the number of epochs and achieved a ~97% testing accuracy. In addition, the unfiltered features FCN vs. filtered took three times longer to train for a ~3.5% accuracy increase.\n"
      ],
      "metadata": {
        "id": "oP33_oE8XVeW"
      },
      "id": "oP33_oE8XVeW"
    },
    {
      "cell_type": "code",
      "execution_count": null,
      "id": "d8366d40",
      "metadata": {
        "colab": {
          "resources": {
            "http://localhost:8080/nbextensions/google.colab/files.js": {
              "data": "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",
              "ok": true,
              "headers": [
                [
                  "content-type",
                  "application/javascript"
                ]
              ],
              "status": 200,
              "status_text": ""
            }
          },
          "base_uri": "https://localhost:8080/",
          "height": 74
        },
        "id": "d8366d40",
        "outputId": "cbdee04c-7b42-4296-89bb-920f0a33a850"
      },
      "outputs": [
        {
          "output_type": "display_data",
          "data": {
            "text/plain": [
              "<IPython.core.display.HTML object>"
            ],
            "text/html": [
              "\n",
              "     <input type=\"file\" id=\"files-7f7e24fb-f2db-452d-a834-885f7fbe3910\" name=\"files[]\" multiple disabled\n",
              "        style=\"border:none\" />\n",
              "     <output id=\"result-7f7e24fb-f2db-452d-a834-885f7fbe3910\">\n",
              "      Upload widget is only available when the cell has been executed in the\n",
              "      current browser session. Please rerun this cell to enable.\n",
              "      </output>\n",
              "      <script src=\"/nbextensions/google.colab/files.js\"></script> "
            ]
          },
          "metadata": {}
        },
        {
          "output_type": "stream",
          "name": "stdout",
          "text": [
            "Saving emotions.csv to emotions (2).csv\n"
          ]
        }
      ],
      "source": [
        "import pandas as pd\n",
        "from pandas import DataFrame as df\n",
        "import numpy as np\n",
        "import matplotlib.pyplot as plt\n",
        "from sklearn.preprocessing import StandardScaler\n",
        "%matplotlib inline\n",
        "from sklearn.metrics import confusion_matrix\n",
        "import seaborn as sns\n",
        "import torch\n",
        "\n",
        "from google.colab import files\n",
        "uploaded = files.upload()"
      ]
    },
    {
      "cell_type": "markdown",
      "id": "596ea344",
      "metadata": {
        "id": "596ea344"
      },
      "source": [
        "## Understanding the Data"
      ]
    },
    {
      "cell_type": "markdown",
      "source": [
        "The data is arranged in 2132 rows, representing each sample. Within each sample are 2549 columns, with the last one representing the emotion that was elicited and the other columns being measured brain activity in a variety of forms such as means or fourier fast transforms. With such a huge amount of data it is difficult to immediately spot a pattern or pick out which measurements to focus on.\n",
        "\n",
        "The data does not appear to be corrupted, though looking at the csv file directly has display issues. Due to the nature of the data it would be challenging to identify a mislabel. If a few cells were recorded inaccurately then they would be statistical outliers and be excluded from how we chose to train the model.\n",
        "\n",
        "The data was measured from human participants while watching movie clips designed to elicit certain emotions. Because humans are highly varied there is no guarantee that each participant was feeling the target emotion while viewing each clip.\n",
        "\n",
        "Each label within the dataset appears to have a uniform number of datapoints. Because many of the measurements may have little correlation with the target emotion we plan to filter the data to reduce the number of features to be passed into the model."
      ],
      "metadata": {
        "id": "1KdeRr3kJWbn"
      },
      "id": "1KdeRr3kJWbn"
    },
    {
      "cell_type": "markdown",
      "source": [
        "## Understanding the Task\n",
        "\n",
        "The goal of the neural network is to be able to identify an emotional state based on measurements provided to it. Successful research in this area could be beneficial when working with patients that are unable to communicate.\n",
        "\n",
        "Chance would yield a correct output in 1 out of every 3 attempts, so the model should surpass that by a healthy margin. Hopefully it will yield accuracy greater than 70%. Because the target labels have been provided we can assess the accuracy of the model reasonably well, though there may be outliers in which a person did not experience the target emotion causing the data to be a misrepresentation. Based on the papers cited in the overview we will be able to compare our results against the results obtained from a more advanced analysis."
      ],
      "metadata": {
        "id": "hTDvAvd0MOxb"
      },
      "id": "hTDvAvd0MOxb"
    },
    {
      "cell_type": "markdown",
      "source": [
        "## Developing an initial plan for your project\n",
        "\n",
        "\n",
        "The model will have one output out of three possible options, to specify which emotional state the inputs represent. The number of inputs per sample will depend on how we filter the data for relevant columns. A RNN will be used an Encoder Decoder. CrossEntropyLoss will be used as the loss function because the model will be calculating a probability for each output.\n",
        "\n",
        "Initially we plan to take the standard deviation of each column. This will help reveal the columns that barely vary between emotional states, and thus have weak predictive power, so that we can exclude them. Our initial plan from there is to split the data by emotion label and find the standard deviations with each. We are currently using columns from the inner quartile of each data set and then comparing the column labels for columns that appear in all three of the separate data sets. This method has reduced the initial 2548 columns of data to 110.\n",
        "\n",
        "We may filter further to decrease the number of columns used as inputs to the model such as a smaller range than the entire inner quartile or comparing the means of the raw values. "
      ],
      "metadata": {
        "id": "n3xTLqalNXmL"
      },
      "id": "n3xTLqalNXmL"
    },
    {
      "cell_type": "markdown",
      "source": [
        "**Prepare Data**"
      ],
      "metadata": {
        "id": "BHsybOa-97zP"
      },
      "id": "BHsybOa-97zP"
    },
    {
      "cell_type": "code",
      "execution_count": null,
      "id": "f8ab59ec",
      "metadata": {
        "id": "f8ab59ec",
        "colab": {
          "base_uri": "https://localhost:8080/"
        },
        "outputId": "10c75f92-0c09-4b34-ae2d-779ddb09b5ed"
      },
      "outputs": [
        {
          "output_type": "stream",
          "name": "stdout",
          "text": [
            "Shape is: (2132, 2549)\n",
            "Size is: 5434468\n"
          ]
        }
      ],
      "source": [
        "# Loads in the EEG data that attempted to read emotions-based fluctuations\n",
        "\n",
        "# Uncomment if running locally in Jupyter\n",
        "# emot_data = pd.read_csv('emotions.csv')\n",
        "\n",
        "# Comment out if running locally instead of in Google Colab\n",
        "import io\n",
        "emot_data = pd.read_csv(io.BytesIO(uploaded['emotions.csv']))\n",
        "\n",
        "print('Shape is:',emot_data.shape)\n",
        "print('Size is:',emot_data.size)"
      ]
    },
    {
      "cell_type": "code",
      "execution_count": null,
      "id": "23fe56df",
      "metadata": {
        "colab": {
          "base_uri": "https://localhost:8080/"
        },
        "id": "23fe56df",
        "outputId": "a5a470f3-6a78-4f88-91ac-d5787aedbea4"
      },
      "outputs": [
        {
          "output_type": "stream",
          "name": "stderr",
          "text": [
            "/usr/local/lib/python3.7/dist-packages/ipykernel_launcher.py:16: FutureWarning: Dropping of nuisance columns in DataFrame reductions (with 'numeric_only=None') is deprecated; in a future version this will raise TypeError.  Select only valid columns before calling the reduction.\n",
            "  app.launch_new_instance()\n",
            "/usr/local/lib/python3.7/dist-packages/ipykernel_launcher.py:18: FutureWarning: Dropping of nuisance columns in DataFrame reductions (with 'numeric_only=None') is deprecated; in a future version this will raise TypeError.  Select only valid columns before calling the reduction.\n"
          ]
        }
      ],
      "source": [
        "# Make a copy to normalize the data\n",
        "emot_norm = emot_data.copy()\n",
        "# Obtain column labels\n",
        "emot_columns = emot_norm.columns\n",
        "\n",
        "# Perform normalization in each column\n",
        "for i in range(len(emot_columns) - 1):\n",
        "    emot_norm[emot_columns[i]] = emot_norm[emot_columns[i]] / emot_norm[emot_columns[i]].abs().max()\n",
        "\n",
        "# Split normalized data into training and testing portions    \n",
        "emot_norm_train = emot_norm[0:1900]\n",
        "emot_norm_test = emot_norm[1900:]\n",
        "\n",
        "# Calculate the standard deviation, to identify which columns are stable and which are volatile\n",
        "# Aim is to find groups of data that are volatile across all three, as this may indicate variance between emotion types after further filtering.\n",
        "emot_std = emot_norm.std()\n",
        "# Standard deviation specific to the training data\n",
        "emot_std_train = emot_norm_train.std()"
      ]
    },
    {
      "cell_type": "code",
      "execution_count": null,
      "id": "547f902b",
      "metadata": {
        "colab": {
          "base_uri": "https://localhost:8080/"
        },
        "id": "547f902b",
        "outputId": "d87c7e04-9b02-49c4-bbf8-073eba6c825a"
      },
      "outputs": [
        {
          "output_type": "stream",
          "name": "stdout",
          "text": [
            "Low standard deviation values - little predictive power (unless raw values vary significantly by state). Stable for all three states. \n",
            "\n",
            "0.02313252441919964\n",
            "0.02313252442051211\n",
            "0.023325779810730682\n",
            "0.023325781417439385\n",
            "0.023987226899939623\n",
            "0.023987226900035123\n",
            "0.024593772818624255\n",
            "0.024593772818624255\n",
            "\n",
            "High standard deviation - potentially noisy or predictive, pending more analysis.\n",
            "\n",
            "0.45948934538521985\n",
            "0.45924019955002005\n",
            "0.4519466790324363\n",
            "0.45165082426607883\n",
            "0.42498641343577026\n",
            "0.4233743571268228\n",
            "0.33831024906551777\n",
            "\n",
            " count    2548.000000\n",
            "mean        0.133487\n",
            "std         0.077676\n",
            "min         0.023133\n",
            "25%         0.063544\n",
            "50%         0.133336\n",
            "75%         0.207824\n",
            "max         0.459489\n",
            "dtype: float64\n",
            "\n",
            "IQR is: 0.14428038312931588\n"
          ]
        }
      ],
      "source": [
        "# Print several of the highest and lowest standard deviation values\n",
        "max_ind = np.argsort(emot_std_train.to_numpy())\n",
        "print(\"Low standard deviation values - little predictive power (unless raw values vary significantly by state). Stable for all three states. \\n\")\n",
        "for i in range(8):\n",
        "    print(emot_std_train[max_ind[i]])\n",
        "    \n",
        "print(\"\\nHigh standard deviation - potentially noisy or predictive, pending more analysis.\\n\")\n",
        "for i in range(1,8):\n",
        "    print(emot_std_train[max_ind[-i]])\n",
        "\n",
        "# Get statistical data, such as quartiles, mean, and median\n",
        "emot_stats = df.describe(emot_std_train)\n",
        "print(\"\\n\",emot_stats)\n",
        "# Inner quartile -- difference between 75% and 25% data points\n",
        "emot_IQR = emot_stats[6] - emot_stats[4]\n",
        "print(\"\\nIQR is:\",emot_IQR,end=\"\\n\")"
      ]
    },
    {
      "cell_type": "code",
      "execution_count": null,
      "id": "6a0e7f9e",
      "metadata": {
        "colab": {
          "base_uri": "https://localhost:8080/",
          "height": 295
        },
        "id": "6a0e7f9e",
        "outputId": "0f2d2b04-1074-4ade-bbd5-873ed977d691"
      },
      "outputs": [
        {
          "output_type": "display_data",
          "data": {
            "text/plain": [
              "<Figure size 432x288 with 1 Axes>"
            ],
            "image/png": "[encoded data removed]"
          },
          "metadata": {
            "needs_background": "light"
          }
        }
      ],
      "source": [
        "# Visualize standard deviation data with a box plot\n",
        "# Whiskers (lines connected to the box) can extend up to 1.5 the length of the inner quartile (box), up to the last data point within that range\n",
        "plt.boxplot(emot_std_train,vert = False)\n",
        "plt.title('Standard deviation of EEG Training Data Features')\n",
        "plt.xlabel('Standard Deviation')\n",
        "plt.show()"
      ]
    },
    {
      "cell_type": "code",
      "execution_count": null,
      "id": "fd029494",
      "metadata": {
        "colab": {
          "base_uri": "https://localhost:8080/"
        },
        "id": "fd029494",
        "outputId": "2e99aefe-2acc-42b9-b065-01191e2877b6"
      },
      "outputs": [
        {
          "output_type": "stream",
          "name": "stderr",
          "text": [
            "/usr/local/lib/python3.7/dist-packages/ipykernel_launcher.py:16: FutureWarning: Dropping of nuisance columns in DataFrame reductions (with 'numeric_only=None') is deprecated; in a future version this will raise TypeError.  Select only valid columns before calling the reduction.\n",
            "  app.launch_new_instance()\n",
            "/usr/local/lib/python3.7/dist-packages/ipykernel_launcher.py:17: FutureWarning: Dropping of nuisance columns in DataFrame reductions (with 'numeric_only=None') is deprecated; in a future version this will raise TypeError.  Select only valid columns before calling the reduction.\n",
            "/usr/local/lib/python3.7/dist-packages/ipykernel_launcher.py:18: FutureWarning: Dropping of nuisance columns in DataFrame reductions (with 'numeric_only=None') is deprecated; in a future version this will raise TypeError.  Select only valid columns before calling the reduction.\n"
          ]
        }
      ],
      "source": [
        "\n",
        "# Extract columns with a std dev above 75% while excluding outliers (data points past the upper quartile whisker)\n",
        "extracted_std_train = emot_std_train.loc[((emot_std_train >= emot_stats[6]) & (emot_std_train <= (emot_stats[6] + emot_IQR)))]\n",
        "# Emotion Pos/Neg/Ntrl labels for each row of the training data -- separated due to being a string and thus not included in the standard deviation output\n",
        "extracted_emot_labels = emot_norm_train.iloc[0:1900,-1]\n",
        "# Get the normalized data for the columns of interest and then reattach the emotion labels\n",
        "extracted_filtered = emot_norm_train[extracted_std_train.index]\n",
        "extracted_filtered = pd.concat([extracted_filtered,extracted_emot_labels],axis = 1)\n",
        "\n",
        "# Split the data by emotion label into three sets of data\n",
        "emotePosNorm = extracted_filtered.loc[extracted_filtered[emot_columns[-1]] == 'POSITIVE']\n",
        "emoteNegNorm = extracted_filtered.loc[extracted_filtered[emot_columns[-1]] == 'NEGATIVE']\n",
        "emoteNtrlNorm = extracted_filtered.loc[extracted_filtered[emot_columns[-1]] == 'NEUTRAL']\n",
        "\n",
        "# Get the standard deviation for each column in each set of data\n",
        "emotePosNorm_std = emotePosNorm.std()\n",
        "emoteNegNorm_std = emoteNegNorm.std()\n",
        "emoteNtrlNorm_std = emoteNtrlNorm.std()"
      ]
    },
    {
      "cell_type": "code",
      "execution_count": null,
      "id": "27c9f11d",
      "metadata": {
        "colab": {
          "base_uri": "https://localhost:8080/",
          "height": 250
        },
        "id": "27c9f11d",
        "outputId": "b649005f-12a8-4327-c275-20bfdf8194ad"
      },
      "outputs": [
        {
          "output_type": "display_data",
          "data": {
            "text/plain": [
              "<Figure size 432x576 with 1 Axes>"
            ],
            "image/png": "[encoded data removed]"
          },
          "metadata": {
            "needs_background": "light"
          }
        }
      ],
      "source": [
        "# Box plots separated by emotion type\n",
        "\n",
        "fig = plt.figure(1,(6,8))\n",
        "\n",
        "#plt.subplot(311)\n",
        "#plt.boxplot(emotePosNorm_std, vert = False)\n",
        "#plt.title('Standard Deviation of Extracted Positive Data')\n",
        "\n",
        "plt.subplot(312)\n",
        "plt.boxplot(emoteNegNorm_std, vert = False)\n",
        "plt.title('Box Plot of Standard Deviation \\n of Extracted Negative Data', FontSize= 23)\n",
        "plt.ylabel('Negative Emotion', FontSize= 15)\n",
        "plt.xticks(fontsize=18)\n",
        "plt.yticks(fontsize=18)\n",
        "\n",
        "#plt.subplot(313)\n",
        "#plt.boxplot(emoteNtrlNorm_std, vert = False)\n",
        "#plt.title('Standard Deviation of Extracted Neutral Data',)\n",
        "plt.tight_layout()\n",
        "plt.show()"
      ]
    },
    {
      "cell_type": "code",
      "execution_count": null,
      "id": "fcac779a",
      "metadata": {
        "colab": {
          "base_uri": "https://localhost:8080/"
        },
        "id": "fcac779a",
        "outputId": "2633ab74-3ca1-41d3-96fe-83406bbe22e1"
      },
      "outputs": [
        {
          "output_type": "stream",
          "name": "stdout",
          "text": [
            "      fft_36_a  fft_39_a  fft_56_a  fft_59_a  fft_71_a  fft_74_a  fft_85_a  \\\n",
            "0       -75.10    -75.10     365.0     365.0   323.000   323.000    -512.0   \n",
            "1        22.80     22.80     -10.8     -10.8    20.400    20.400     167.0   \n",
            "2       432.00    432.00     369.0     369.0   343.000   343.000    -358.0   \n",
            "3       508.00    508.00      93.0      93.0   -48.900   -48.900     269.0   \n",
            "4        21.20     21.20     -37.6     -37.6    20.700    20.700     160.0   \n",
            "...        ...       ...       ...       ...       ...       ...       ...   \n",
            "2127     -7.86     -7.86     -10.1     -10.1    -6.020    -6.020     143.0   \n",
            "2128    517.00    517.00     231.0     231.0   348.000   348.000    -173.0   \n",
            "2129    299.00    299.00     -94.6     -94.6  -113.000  -113.000      37.8   \n",
            "2130    323.00    323.00     580.0     580.0   631.000   631.000    -635.0   \n",
            "2131     13.60     13.60      16.8      16.8    -0.411    -0.411     171.0   \n",
            "\n",
            "      fft_100_a  fft_125_a  fft_231_a  ...  fft_644_b  fft_656_b  fft_659_b  \\\n",
            "0        -335.0      -41.0      91.00  ...     345.00     367.00     367.00   \n",
            "1          84.1       82.6       1.39  ...     -24.20      10.70      10.70   \n",
            "2        -518.0     -639.0     359.00  ...     227.00     203.00     203.00   \n",
            "3          33.6     -645.0     411.00  ...    -133.00     -68.10     -68.10   \n",
            "4         133.0      120.0      -7.75  ...     -31.70     -28.60     -28.60   \n",
            "...         ...        ...        ...  ...        ...        ...        ...   \n",
            "2127      143.0      106.0      15.50  ...     -14.70      -2.34      -2.34   \n",
            "2128     -299.0     -566.0     336.00  ...     206.00     214.00     214.00   \n",
            "2129      223.0     -291.0     467.00  ...    -169.00     -51.40     -51.40   \n",
            "2130     -499.0     -348.0     317.00  ...     535.00     504.00     504.00   \n",
            "2131       88.1      107.0      -2.54  ...      -2.67       6.51       6.51   \n",
            "\n",
            "      fft_661_b  fft_664_b  fft_676_b  fft_679_b  fft_701_b  fft_704_b  \\\n",
            "0         373.0      373.0     431.00     431.00     325.00     325.00   \n",
            "1          18.4       18.4      -6.57      -6.57      -8.45      -8.45   \n",
            "2          98.2       98.2     223.00     223.00     157.00     157.00   \n",
            "3         -82.7      -82.7     -20.30     -20.30      13.60      13.60   \n",
            "4         -21.8      -21.8      19.60      19.60       7.02       7.02   \n",
            "...         ...        ...        ...        ...        ...        ...   \n",
            "2127       39.5       39.5      13.20      13.20      23.90      23.90   \n",
            "2128       62.4       62.4      66.00      66.00     240.00     240.00   \n",
            "2129      458.0      458.0     338.00     338.00    -127.00    -127.00   \n",
            "2130      -54.7      -54.7      -6.85      -6.85     530.00     530.00   \n",
            "2131       -8.2       -8.2     -34.00     -34.00      24.70      24.70   \n",
            "\n",
            "         label  \n",
            "0     NEGATIVE  \n",
            "1      NEUTRAL  \n",
            "2     POSITIVE  \n",
            "3     POSITIVE  \n",
            "4      NEUTRAL  \n",
            "...        ...  \n",
            "2127   NEUTRAL  \n",
            "2128  POSITIVE  \n",
            "2129  NEGATIVE  \n",
            "2130  NEGATIVE  \n",
            "2131   NEUTRAL  \n",
            "\n",
            "[2132 rows x 119 columns]\n"
          ]
        }
      ],
      "source": [
        "# Obtain inner quartile values from the box plots\n",
        "pos_stats = df.describe(emotePosNorm_std)\n",
        "neg_stats = df.describe(emoteNegNorm_std)\n",
        "ntrl_stats = df.describe(emoteNtrlNorm_std)\n",
        "\n",
        "# Inner quartile (IQR) for each set of emotion data\n",
        "IQR_pos = emotePosNorm_std.loc[((emotePosNorm_std <= pos_stats[6]) & (emotePosNorm_std >= pos_stats[4]))]\n",
        "IQR_neg = emoteNegNorm_std.loc[((emoteNegNorm_std <= neg_stats[6]) & (emoteNegNorm_std >= neg_stats[4]))]\n",
        "IQR_ntrl = emoteNtrlNorm_std.loc[((emoteNtrlNorm_std <= ntrl_stats[6]) & (emoteNtrlNorm_std >= ntrl_stats[4]))]\n",
        "\n",
        "# Empty list to store column labels that, upon comparison, appear in the positive and negative sets\n",
        "cmpr1 = []\n",
        "# Identify the columns that positive and negative emotions IQRs have in common\n",
        "for i in range(len(IQR_pos)):\n",
        "    for j in range(len(IQR_neg)):\n",
        "        if IQR_pos.index[i] == IQR_neg.index[j]:\n",
        "            cmpr1.append(IQR_neg.index[j])\n",
        "            break\n",
        "# Compares the first list against the neutral index labels\n",
        "cmpr2 = []\n",
        "# Check neutral emotion set to identify columns that appear in all three, individual IQRs\n",
        "for i in range(len(IQR_ntrl)):\n",
        "    for j in range(len(cmpr1)):\n",
        "        if IQR_ntrl.index[i] == cmpr1[j]:\n",
        "            cmpr2.append(IQR_ntrl.index[i])\n",
        "            break\n",
        "# Attach the column label for emotions to the filtered set of columns\n",
        "cmpr2.append(extracted_filtered.columns[-1])\n",
        "# Create the filtered, non-normalized data set that contains the columns needing to train a neural network\n",
        "emot_filtered_data = emot_data[cmpr2]\n",
        "print((emot_filtered_data))"
      ]
    },
    {
      "cell_type": "code",
      "source": [
        "# Bar graph to demonstrate the difference between raw and filtered feature (column) quantity\n",
        "\n",
        "fig = plt.figure(figsize = (8,5))\n",
        "data_quantity = [emot_filtered_data.shape[1] - 1,emot_data.shape[1] - 1]\n",
        "axis_names = ['  Filtered \\n Data','  Initial \\n Data']\n",
        "ax = fig.add_axes([0,0,0.4,0.8])\n",
        "ax.bar(axis_names, data_quantity, 0.7)\n",
        "ax.set_title('Feature Quantities', Fontsize = 23)\n",
        "plt.xticks(fontsize=25)\n",
        "plt.yticks(fontsize=15)\n",
        "plt.show()"
      ],
      "metadata": {
        "colab": {
          "base_uri": "https://localhost:8080/",
          "height": 402
        },
        "id": "du_qeHboGsX9",
        "outputId": "5a80beac-5d68-4201-9751-ecfde4ffeae6"
      },
      "id": "du_qeHboGsX9",
      "execution_count": null,
      "outputs": [
        {
          "output_type": "display_data",
          "data": {
            "text/plain": [
              "<Figure size 576x360 with 1 Axes>"
            ],
            "image/png": "[encoded data removed]"
          },
          "metadata": {
            "needs_background": "light"
          }
        }
      ]
    },
    {
      "cell_type": "markdown",
      "source": [
        "## RNN Model Definition"
      ],
      "metadata": {
        "id": "qGuPAcXaMTf2"
      },
      "id": "qGuPAcXaMTf2"
    },
    {
      "cell_type": "code",
      "execution_count": null,
      "id": "7cafad17",
      "metadata": {
        "id": "7cafad17",
        "colab": {
          "base_uri": "https://localhost:8080/"
        },
        "outputId": "bee4d26b-de98-4660-c055-eab10f81411b"
      },
      "outputs": [
        {
          "output_type": "stream",
          "name": "stdout",
          "text": [
            "(2132, 119)\n"
          ]
        }
      ],
      "source": [
        "# Convert Pandas data to a numpy array\n",
        "emot_filtered_std_np = emot_filtered_data.to_numpy()\n",
        "emot_filtered_norm_np = emot_norm[emot_filtered_data.columns].to_numpy()\n",
        "print(emot_filtered_std_np.shape)\n"
      ]
    },
    {
      "cell_type": "code",
      "source": [
        "# Use np.where to create target output data used during training\n",
        "\n",
        "emot_targets = np.zeros(len(emot_filtered_std_np))\n",
        "emot_pos_index = np.where(emot_filtered_std_np[:,-1]==\"POSITIVE\")\n",
        "emot_neg_index = np.where(emot_filtered_std_np[:,-1]==\"NEGATIVE\")\n",
        "emot_neutral_index = np.where(emot_filtered_std_np[:,-1]==\"NEUTRAL\")\n",
        "\n",
        "# Translates identifying string labels into a number the model can use\n",
        "emot_targets[emot_pos_index] = 0 \n",
        "emot_targets[emot_neg_index] = 1\n",
        "emot_targets[emot_neutral_index] = 2\n",
        "\n",
        "print(emot_targets.shape)"
      ],
      "metadata": {
        "colab": {
          "base_uri": "https://localhost:8080/"
        },
        "id": "5L4tH1oOTGbG",
        "outputId": "b2df104b-d3b4-46c3-c39d-eb8e74a1ebb4"
      },
      "id": "5L4tH1oOTGbG",
      "execution_count": null,
      "outputs": [
        {
          "output_type": "stream",
          "name": "stdout",
          "text": [
            "(2132,)\n"
          ]
        }
      ]
    },
    {
      "cell_type": "code",
      "source": [
        "emot_training = emot_filtered_norm_np[:1900,:-1].astype('float')\n",
        "emot_training_fc = emot_training.copy()\n",
        "emot_testing = emot_filtered_norm_np[1900:,:-1].astype('float')\n",
        "\n",
        "emot_training_target = emot_targets[:1900].astype('long')\n",
        "emot_testing_target = emot_targets[1900:].astype('long')\n",
        "seq_len = emot_training.shape[1]\n"
      ],
      "metadata": {
        "id": "kYZkLUanU5E5"
      },
      "id": "kYZkLUanU5E5",
      "execution_count": null,
      "outputs": []
    },
    {
      "cell_type": "code",
      "execution_count": null,
      "id": "0bcf2b94",
      "metadata": {
        "id": "0bcf2b94"
      },
      "outputs": [],
      "source": [
        "class Emotion_RNN(torch.nn.Module):\n",
        "    \n",
        "    def __init__(self, input_size, hidden_size, num_layers, output_size, sequence_length):\n",
        "        \n",
        "        super(Emotion_RNN, self).__init__()\n",
        "        \n",
        "        # Using GRU cell with batch_first = True, i.e., we are using (sample_size, sequence_length, # of features) format\n",
        "        # Bidirectional = True, both foward and backward context \n",
        "        self.gru = torch.nn.GRU(input_size=input_size, hidden_size=hidden_size, \n",
        "                                num_layers = num_layers, \n",
        "                                batch_first = True,\n",
        "                                bidirectional = True,\n",
        "                                dropout = 0.15)\n",
        "        # Decoder layer to take in GRU hidden states and output numbers equal to the output_size, which is used to estimate the probable emotional state\n",
        "        \n",
        "        self.decoder = torch.nn.Linear(hidden_size*2*sequence_length, output_size) \n",
        "        \n",
        "    def forward(self, input_seq, hidden_state):\n",
        "        \n",
        "        # Feed gru cell with input sequence and initial hidden state\n",
        "        emotion_pred, hidden = self.gru(input_seq, hidden_state)\n",
        "        # Flatten the dimensions of minibatch, to avoid passing each hidden state along an extra dimension\n",
        "        emotion_pred = emotion_pred.reshape(len(emotion_pred),-1)\n",
        "\n",
        "        # Feed the output of the GRU (emotion_pred) to decoder layer\n",
        "        emotion_pred_out = self.decoder(emotion_pred)\n",
        "\n",
        "        return emotion_pred_out"
      ]
    },
    {
      "cell_type": "markdown",
      "source": [
        "## Define Hyperparameters for RNN Model"
      ],
      "metadata": {
        "id": "d2HTjDl7pvnA"
      },
      "id": "d2HTjDl7pvnA"
    },
    {
      "cell_type": "code",
      "source": [
        "# Define the model\n",
        "emotion_rnn = Emotion_RNN(input_size = 1, hidden_size = 32, \n",
        "                            num_layers = 3, output_size = 3, sequence_length = seq_len)\n",
        "\n",
        "# Learning rate and number of epochs\n",
        "learning_rate = 0.001   \n",
        "epochs = 35\n",
        "\n",
        "# Mini-batch size\n",
        "batchsize = 50\n",
        "\n",
        "# Loss function and optimizer\n",
        "loss_func = torch.nn.CrossEntropyLoss()\n",
        "optimizer = torch.optim.Adam(emotion_rnn.parameters(), lr=learning_rate)\n",
        "\n",
        "# Print out model specifics, add .cuda() if using GPU\n",
        "emotion_rnn #.cuda()"
      ],
      "metadata": {
        "colab": {
          "base_uri": "https://localhost:8080/"
        },
        "id": "aDSbhqjFPyJF",
        "outputId": "d5bcac7e-cdea-412e-9953-8eb40448315a"
      },
      "id": "aDSbhqjFPyJF",
      "execution_count": null,
      "outputs": [
        {
          "output_type": "execute_result",
          "data": {
            "text/plain": [
              "Emotion_RNN(\n",
              "  (gru): GRU(1, 32, num_layers=3, batch_first=True, dropout=0.15, bidirectional=True)\n",
              "  (decoder): Linear(in_features=7552, out_features=3, bias=True)\n",
              ")"
            ]
          },
          "metadata": {},
          "execution_count": 14
        }
      ]
    },
    {
      "cell_type": "markdown",
      "source": [
        "\n",
        "## Identify Tracked Values\n"
      ],
      "metadata": {
        "id": "KixMfa7Xoe4w"
      },
      "id": "KixMfa7Xoe4w"
    },
    {
      "cell_type": "code",
      "source": [
        "# Empty list to keep track of training loss\n",
        "\n",
        "train_loss_list = []\n",
        "correct_valid = []"
      ],
      "metadata": {
        "id": "_0higJgiQNOL"
      },
      "id": "_0higJgiQNOL",
      "execution_count": null,
      "outputs": []
    },
    {
      "cell_type": "markdown",
      "source": [
        "## Train RNN Model"
      ],
      "metadata": {
        "id": "tC2V_vy_o-XV"
      },
      "id": "tC2V_vy_o-XV"
    },
    {
      "cell_type": "code",
      "source": [
        "# Reshape to match Number of Samples, Sequence Length, Number of Features\n",
        "\n",
        "emot_training = emot_training.reshape(-1,len(emot_training[0]),1)\n",
        "emot_testing = emot_testing.reshape(-1,len(emot_testing[0]),1)\n",
        "\n",
        "print(emot_training.shape)"
      ],
      "metadata": {
        "id": "6EcvJzx9ZcY-",
        "colab": {
          "base_uri": "https://localhost:8080/"
        },
        "outputId": "6d88e649-f74c-459c-8b56-a7390bc559eb"
      },
      "id": "6EcvJzx9ZcY-",
      "execution_count": null,
      "outputs": [
        {
          "output_type": "stream",
          "name": "stdout",
          "text": [
            "(1900, 118, 1)\n"
          ]
        }
      ]
    },
    {
      "cell_type": "code",
      "source": [
        "# Create a subset of the training data for validation\n",
        "emot_training2 = emot_training[0:-150]\n",
        "emot_validate_rnn = emot_training[-150:]\n",
        "emot_training_target2 = emot_training_target[0:-150]\n",
        "emot_validate_target = emot_training_target[-150:]\n",
        "\n",
        "# Converts training data into torch tensors\n",
        "train_input_seqs = torch.from_numpy(emot_training2).float()\n",
        "train_output_seqs = torch.from_numpy(emot_training_target2).long()\n",
        "\n",
        "valid_input_seqs_rnn = torch.from_numpy(emot_validate_rnn).float()\n",
        "valid_output_seqs_rnn = torch.from_numpy(emot_validate_target).long()\n",
        "\n",
        "# Splits the training data into mini-batches\n",
        "train_batches_features = torch.split(train_input_seqs, batchsize)\n",
        "train_batches_targets = torch.split(train_output_seqs, batchsize)\n",
        "\n",
        "# Total number of mini-batches in the training set\n",
        "batch_split_num = len(train_batches_features)\n",
        "\n",
        "for epoch in range(epochs):\n",
        "    \n",
        "    for k in range(batch_split_num):\n",
        "\n",
        "        # initialize the hidden states as None\n",
        "        hidden_state = None\n",
        "    \n",
        "        # Feed in k-th mini-batch training features to neural network\n",
        "        emotion_predict = emotion_rnn(train_batches_features[k], hidden_state)\n",
        "\n",
        "        # zero_grad() to clear gradient buffer\n",
        "        optimizer.zero_grad()\n",
        "        \n",
        "        # Compute loss between the model's output and the target training sequence\n",
        "        loss = loss_func(emotion_predict, train_batches_targets[k])\n",
        "        # Append loss to loss list\n",
        "        train_loss_list.append(loss.item())\n",
        "        \n",
        "        # Backpropagation\n",
        "        loss.backward()\n",
        "        \n",
        "        # Update weights/biases\n",
        "        optimizer.step()\n",
        "\n",
        "    # Print the averaged training loss throughout each epoch\n",
        "    print(\"Averaged Training Loss for Epoch \", epoch,\": \", np.mean(train_loss_list[-batch_split_num:]))\n",
        "    with torch.no_grad():\n",
        "      validate_out_rnn = emotion_rnn(valid_input_seqs_rnn,None)\n",
        "      correct_valid = (torch.argmax(validate_out_rnn, dim = 1) == \n",
        "                 valid_output_seqs_rnn).type(torch.FloatTensor)\n",
        "      print('Validation accuracy for epoch',epoch, ': {:.3f}'.format((float)(correct_valid.mean())))\n"
      ],
      "metadata": {
        "colab": {
          "base_uri": "https://localhost:8080/"
        },
        "id": "G18utHUPQX-P",
        "outputId": "e237c241-d617-4098-93e9-2e63bdd1a4ce"
      },
      "id": "G18utHUPQX-P",
      "execution_count": null,
      "outputs": [
        {
          "output_type": "stream",
          "name": "stdout",
          "text": [
            "Averaged Training Loss for Epoch  0 :  0.9213652082851955\n",
            "Validation accuracy for epoch 0 : 0.553\n",
            "Averaged Training Loss for Epoch  1 :  0.7683359129088265\n",
            "Validation accuracy for epoch 1 : 0.673\n",
            "Averaged Training Loss for Epoch  2 :  0.7159414257322039\n",
            "Validation accuracy for epoch 2 : 0.793\n",
            "Averaged Training Loss for Epoch  3 :  0.6709514030388424\n",
            "Validation accuracy for epoch 3 : 0.800\n",
            "Averaged Training Loss for Epoch  4 :  0.5520209363528661\n",
            "Validation accuracy for epoch 4 : 0.833\n",
            "Averaged Training Loss for Epoch  5 :  0.5010827396597181\n",
            "Validation accuracy for epoch 5 : 0.847\n",
            "Averaged Training Loss for Epoch  6 :  0.40943773814610074\n",
            "Validation accuracy for epoch 6 : 0.847\n",
            "Averaged Training Loss for Epoch  7 :  0.38047635555267334\n",
            "Validation accuracy for epoch 7 : 0.847\n",
            "Averaged Training Loss for Epoch  8 :  0.30597912115710124\n",
            "Validation accuracy for epoch 8 : 0.860\n",
            "Averaged Training Loss for Epoch  9 :  0.32778553153787343\n",
            "Validation accuracy for epoch 9 : 0.887\n",
            "Averaged Training Loss for Epoch  10 :  0.26841263813631877\n",
            "Validation accuracy for epoch 10 : 0.867\n",
            "Averaged Training Loss for Epoch  11 :  0.24866145317043578\n",
            "Validation accuracy for epoch 11 : 0.913\n",
            "Averaged Training Loss for Epoch  12 :  0.24487219708306449\n",
            "Validation accuracy for epoch 12 : 0.900\n",
            "Averaged Training Loss for Epoch  13 :  0.22023974912507194\n",
            "Validation accuracy for epoch 13 : 0.887\n",
            "Averaged Training Loss for Epoch  14 :  0.22228130059582846\n",
            "Validation accuracy for epoch 14 : 0.873\n",
            "Averaged Training Loss for Epoch  15 :  0.20675039759704045\n",
            "Validation accuracy for epoch 15 : 0.920\n",
            "Averaged Training Loss for Epoch  16 :  0.2074219503573009\n",
            "Validation accuracy for epoch 16 : 0.873\n",
            "Averaged Training Loss for Epoch  17 :  0.19716505599873407\n",
            "Validation accuracy for epoch 17 : 0.893\n",
            "Averaged Training Loss for Epoch  18 :  0.18082915672234126\n",
            "Validation accuracy for epoch 18 : 0.887\n",
            "Averaged Training Loss for Epoch  19 :  0.18223126849957874\n",
            "Validation accuracy for epoch 19 : 0.880\n",
            "Averaged Training Loss for Epoch  20 :  0.18818697780370713\n",
            "Validation accuracy for epoch 20 : 0.893\n",
            "Averaged Training Loss for Epoch  21 :  0.16967265637857573\n",
            "Validation accuracy for epoch 21 : 0.900\n",
            "Averaged Training Loss for Epoch  22 :  0.16437231483204023\n",
            "Validation accuracy for epoch 22 : 0.887\n",
            "Averaged Training Loss for Epoch  23 :  0.14352114615695818\n",
            "Validation accuracy for epoch 23 : 0.867\n",
            "Averaged Training Loss for Epoch  24 :  0.13620442450046538\n",
            "Validation accuracy for epoch 24 : 0.887\n",
            "Averaged Training Loss for Epoch  25 :  0.13623073026537896\n",
            "Validation accuracy for epoch 25 : 0.880\n",
            "Averaged Training Loss for Epoch  26 :  0.13419390778456416\n",
            "Validation accuracy for epoch 26 : 0.887\n",
            "Averaged Training Loss for Epoch  27 :  0.11243383847177028\n",
            "Validation accuracy for epoch 27 : 0.880\n",
            "Averaged Training Loss for Epoch  28 :  0.12179103302104133\n",
            "Validation accuracy for epoch 28 : 0.800\n",
            "Averaged Training Loss for Epoch  29 :  0.127965818132673\n",
            "Validation accuracy for epoch 29 : 0.860\n",
            "Averaged Training Loss for Epoch  30 :  0.11009931372744697\n",
            "Validation accuracy for epoch 30 : 0.873\n",
            "Averaged Training Loss for Epoch  31 :  0.10076509293700968\n",
            "Validation accuracy for epoch 31 : 0.833\n",
            "Averaged Training Loss for Epoch  32 :  0.09816169419458934\n",
            "Validation accuracy for epoch 32 : 0.880\n",
            "Averaged Training Loss for Epoch  33 :  0.10822704636624882\n",
            "Validation accuracy for epoch 33 : 0.873\n",
            "Averaged Training Loss for Epoch  34 :  0.08534760352756296\n",
            "Validation accuracy for epoch 34 : 0.860\n"
          ]
        }
      ]
    },
    {
      "cell_type": "markdown",
      "source": [
        "## Visualize & Evaluate RNN Model"
      ],
      "metadata": {
        "id": "n_HqjoLtqRYG"
      },
      "id": "n_HqjoLtqRYG"
    },
    {
      "cell_type": "code",
      "source": [
        "# Training loss across epochs\n",
        "plt.figure(figsize = (13, 5))\n",
        "\n",
        "plt.plot(train_loss_list, linewidth = 3, label = 'Training Loss')\n",
        "plt.xlabel('Minibatch')\n",
        "plt.ylabel('Loss')\n",
        "plt.title('RNN Training Loss')\n",
        "plt.show()"
      ],
      "metadata": {
        "colab": {
          "base_uri": "https://localhost:8080/",
          "height": 350
        },
        "id": "ZQ1TDob467xu",
        "outputId": "032928d1-2fa1-4581-e346-78b25b750f13"
      },
      "id": "ZQ1TDob467xu",
      "execution_count": null,
      "outputs": [
        {
          "output_type": "display_data",
          "data": {
            "text/plain": [
              "<Figure size 936x360 with 1 Axes>"
            ],
            "image/png": "[encoded data removed]"
          },
          "metadata": {
            "needs_background": "light"
          }
        }
      ]
    },
    {
      "cell_type": "code",
      "source": [
        "# Convert testing data to a torch tensor\n",
        "test_input_seqs = torch.from_numpy(emot_testing).float()\n",
        "test_output_seqs = torch.from_numpy(emot_testing_target).long()\n",
        "\n",
        "# Empty lists to keep track of RNN denoised test sequences and test losses\n",
        "test_prediction = []\n",
        "test_losses = []\n",
        "\n",
        "# Turn on no_grad() since we aren't performing backprop during this process\n",
        "with torch.no_grad():\n",
        "    \n",
        "    test_pred = emotion_rnn(test_input_seqs, None)\n",
        "    # Compare the test_pred with test target sequence to compute testing loss\n",
        "\n",
        "    test_loss = loss_func(test_pred, test_output_seqs)\n",
        "        \n",
        "    test_losses.append(test_loss.item())\n",
        "        \n",
        "# Final testing loss is the average of all the test_losses from mini-batches        \n",
        "print(\"Testing Loss (Least Absolute Deviations): \", np.mean(test_losses))"
      ],
      "metadata": {
        "colab": {
          "base_uri": "https://localhost:8080/"
        },
        "id": "cW1vEkF77yM2",
        "outputId": "510aeaa6-1973-44f0-e829-6213f2af7bc4"
      },
      "id": "cW1vEkF77yM2",
      "execution_count": null,
      "outputs": [
        {
          "output_type": "stream",
          "name": "stdout",
          "text": [
            "Testing Loss (Least Absolute Deviations):  0.33989399671554565\n"
          ]
        }
      ]
    },
    {
      "cell_type": "code",
      "source": [
        "# Testing Accuracy\n",
        "\n",
        "test_accuracy_list = []\n",
        "correct_test = (torch.argmax(test_pred, dim = 1) == test_output_seqs).type(torch.FloatTensor)\n",
        "# Argmax is used to identify the predicted output, which is compared against the target value representing a particular emotion\n",
        "test_accuracy_list.append(correct_test.mean())\n",
        "print('Testing accuracy: {:.3f}'.format((float)(test_accuracy_list[0])))"
      ],
      "metadata": {
        "colab": {
          "base_uri": "https://localhost:8080/"
        },
        "id": "p6f4SPFU8xYV",
        "outputId": "11669d29-a7bb-417a-df34-10baf33bd08e"
      },
      "id": "p6f4SPFU8xYV",
      "execution_count": null,
      "outputs": [
        {
          "output_type": "stream",
          "name": "stdout",
          "text": [
            "Testing accuracy: 0.897\n"
          ]
        }
      ]
    },
    {
      "cell_type": "code",
      "source": [
        "cf_matrix = confusion_matrix(torch.argmax(test_pred, dim = 1),test_output_seqs)\n",
        "\n",
        "\n",
        "ax = sns.heatmap(cf_matrix, annot=True, cmap='Blues')\n",
        "\n",
        "ax.set_title('RNN Testing Confusion Matrix\\n\\n');\n",
        "ax.set_xlabel('\\nPredicted Emotion State')\n",
        "ax.set_ylabel('Actual Emotion State');\n",
        "\n",
        "## Ticket labels - List must be in alphabetical order\n",
        "ax.xaxis.set_ticklabels(['Positive','Negative', 'Neutral'])\n",
        "ax.yaxis.set_ticklabels(['Positive','Negative', 'Neutral'])\n",
        "\n",
        "## Display the visualization of the Confusion Matrix.\n",
        "plt.show()\n"
      ],
      "metadata": {
        "colab": {
          "base_uri": "https://localhost:8080/",
          "height": 337
        },
        "id": "rDnZu9VZqZHJ",
        "outputId": "c77ac880-ece5-477e-fdf0-f537f44f59c4"
      },
      "id": "rDnZu9VZqZHJ",
      "execution_count": null,
      "outputs": [
        {
          "output_type": "display_data",
          "data": {
            "text/plain": [
              "<Figure size 432x288 with 2 Axes>"
            ],
            "image/png": "[encoded data removed]"
          },
          "metadata": {
            "needs_background": "light"
          }
        }
      ]
    },
    {
      "cell_type": "markdown",
      "source": [
        "## Define Fully Connected Model (Using Filtered Features)"
      ],
      "metadata": {
        "id": "bUiT_kU0AAwz"
      },
      "id": "bUiT_kU0AAwz"
    },
    {
      "cell_type": "code",
      "source": [
        "class Emotion_FC(torch.nn.Module):\n",
        "  # Inputs:\n",
        "        # input_dim:   Dimension of input data to be fed into the model\n",
        "        # hidden_dim1: Dimension of first hidden layer, corresponding to its output after processing input_dim data\n",
        "        # hidden_dim2: Dimension of the second hidden layer, processing inputs from hidden_dim1\n",
        "        # output_dim:  Dimension of final output after data from hidden_dim2 has been processed\n",
        "    def __init__(self, input_dim, hidden_dim1, hidden_dim2, output_dim):\n",
        "        super(Emotion_FC, self).__init__()\n",
        "\n",
        "        self.layer1 = torch.nn.Linear(input_dim, hidden_dim1)\n",
        "        self.layer2 = torch.nn.Linear(hidden_dim1, hidden_dim2)\n",
        "        self.layer3 = torch.nn.Linear(hidden_dim2, output_dim)\n",
        "        self.batch_norm1 = torch.nn.BatchNorm1d(hidden_dim1)\n",
        "        self.batch_norm2 = torch.nn.BatchNorm1d(hidden_dim2)\n",
        "\n",
        "    def forward(self, x):\n",
        "        \n",
        "        # Normalizes before passing through a ReLU activation function\n",
        "        out1 = self.layer1(x)\n",
        "        out1 = self.batch_norm1(out1)\n",
        "        out1 = torch.nn.functional.relu(out1)\n",
        "        \n",
        "        out2 = self.layer2(out1)\n",
        "        out2 = self.batch_norm2(out2)\n",
        "        out2 = torch.nn.functional.relu(out2)\n",
        "        \n",
        "        out = self.layer3(out2)\n",
        "        \n",
        "        return out\n",
        "\n"
      ],
      "metadata": {
        "id": "e-9zUolQ_9nk"
      },
      "id": "e-9zUolQ_9nk",
      "execution_count": null,
      "outputs": []
    },
    {
      "cell_type": "markdown",
      "source": [
        "## Define Hyperparameters for Fully Connected Model (Filtered)"
      ],
      "metadata": {
        "id": "_6TBI_F8rQgO"
      },
      "id": "_6TBI_F8rQgO"
    },
    {
      "cell_type": "code",
      "source": [
        "# Define a fully connected neural network\n",
        "emotion_fc = Emotion_FC(emot_training.shape[1],2450,750,3)\n",
        "\n",
        "# Learning rate and epoch \n",
        "learning_rate = 0.00021 \n",
        "epochs = 90\n",
        "\n",
        "# Loss function and optimizer\n",
        "loss_func_fc = torch.nn.CrossEntropyLoss()\n",
        "optimizer_fc = torch.optim.Adam(emotion_fc.parameters(), lr = learning_rate)\n",
        "\n",
        "# Run this line if you have PyTorch GPU version\n",
        "if torch.cuda.is_available():\n",
        "    emotion_fc.cuda()\n",
        "\n",
        "emotion_fc\n"
      ],
      "metadata": {
        "colab": {
          "base_uri": "https://localhost:8080/"
        },
        "id": "qcTUeQV3LnM2",
        "outputId": "8beb88c3-06e9-4067-8866-29a1f7341931"
      },
      "id": "qcTUeQV3LnM2",
      "execution_count": null,
      "outputs": [
        {
          "output_type": "execute_result",
          "data": {
            "text/plain": [
              "Emotion_FC(\n",
              "  (layer1): Linear(in_features=118, out_features=2450, bias=True)\n",
              "  (layer2): Linear(in_features=2450, out_features=750, bias=True)\n",
              "  (layer3): Linear(in_features=750, out_features=3, bias=True)\n",
              "  (batch_norm1): BatchNorm1d(2450, eps=1e-05, momentum=0.1, affine=True, track_running_stats=True)\n",
              "  (batch_norm2): BatchNorm1d(750, eps=1e-05, momentum=0.1, affine=True, track_running_stats=True)\n",
              ")"
            ]
          },
          "metadata": {},
          "execution_count": 23
        }
      ]
    },
    {
      "cell_type": "markdown",
      "source": [
        "## Train Fully Connected Model (Filtered)"
      ],
      "metadata": {
        "id": "lR1NBAiUrdGR"
      },
      "id": "lR1NBAiUrdGR"
    },
    {
      "cell_type": "code",
      "source": [
        "import tqdm\n",
        "\n",
        "# Convert input data and output targets to torch tensors\n",
        "emot_training_fc2 = emot_training_fc[0:-150]\n",
        "emot_validate_fc = emot_training_fc[-150:]\n",
        "emot_training_target2 = emot_training_target[0:-150]\n",
        "emot_validate_target = emot_training_target[-150:]\n",
        "\n",
        "train_input_seqs_fc = torch.from_numpy(emot_training_fc2).float()\n",
        "train_input_seqs_fc = train_input_seqs_fc.reshape(train_input_seqs_fc.shape[0],-1).float()\n",
        "valid_input_seqs_fc = torch.from_numpy(emot_validate_fc).float()\n",
        "valid_input_seqs_fc = valid_input_seqs_fc.reshape(valid_input_seqs_fc.shape[0],-1).float()\n",
        "\n",
        "train_output_seqs_fc = torch.from_numpy(emot_training_target2).long()\n",
        "valid_output_seqs_fc = torch.from_numpy(emot_validate_target).long()\n",
        "\n",
        "train_loss_list = []\n",
        "train_accuracy_list = []\n",
        "correct_valid = []\n",
        "\n",
        "# Train the fully connected model\n",
        "for epoch in tqdm.trange(epochs):\n",
        "    \n",
        "    optimizer_fc.zero_grad() # Reset the gradient for each learning attempt\n",
        "    training_outputs = emotion_fc(train_input_seqs_fc)\n",
        "    \n",
        "    loss = loss_func_fc(training_outputs,train_output_seqs_fc) # Checks the model against expected results\n",
        "    train_loss_list.append(loss.item())\n",
        "\n",
        "#    correct = training_outputs/train_output_seqs_fc[epoch]\n",
        "#    train_accuracy_list.append(correct.item())\n",
        "    loss.backward()\n",
        "    optimizer_fc.step() # Update model weights\n",
        "\n",
        "    with torch.no_grad():\n",
        "      validate_out_fc = emotion_fc(valid_input_seqs_fc)\n",
        "      correct_valid = (torch.argmax(validate_out_fc, dim = 1) == \n",
        "                 valid_output_seqs_fc).type(torch.FloatTensor)\n",
        "      print('Validation accuracy for epoch',epoch, ': {:.3f}'.format((float)(correct_valid.mean())))\n"
      ],
      "metadata": {
        "colab": {
          "base_uri": "https://localhost:8080/"
        },
        "id": "0nFyM1loU5AZ",
        "outputId": "4287a923-5d1b-4d1e-dfc8-9e8bcec1b795"
      },
      "id": "0nFyM1loU5AZ",
      "execution_count": null,
      "outputs": [
        {
          "output_type": "stream",
          "name": "stderr",
          "text": [
            "  1%|          | 1/90 [00:00<00:53,  1.65it/s]"
          ]
        },
        {
          "output_type": "stream",
          "name": "stdout",
          "text": [
            "Validation accuracy for epoch 0 : 0.680\n"
          ]
        },
        {
          "output_type": "stream",
          "name": "stderr",
          "text": [
            "\r  2%|▏         | 2/90 [00:01<00:46,  1.91it/s]"
          ]
        },
        {
          "output_type": "stream",
          "name": "stdout",
          "text": [
            "Validation accuracy for epoch 1 : 0.707\n"
          ]
        },
        {
          "output_type": "stream",
          "name": "stderr",
          "text": [
            "\r  3%|▎         | 3/90 [00:01<00:43,  2.00it/s]"
          ]
        },
        {
          "output_type": "stream",
          "name": "stdout",
          "text": [
            "Validation accuracy for epoch 2 : 0.773\n"
          ]
        },
        {
          "output_type": "stream",
          "name": "stderr",
          "text": [
            "\r  4%|▍         | 4/90 [00:01<00:41,  2.08it/s]"
          ]
        },
        {
          "output_type": "stream",
          "name": "stdout",
          "text": [
            "Validation accuracy for epoch 3 : 0.827\n"
          ]
        },
        {
          "output_type": "stream",
          "name": "stderr",
          "text": [
            "\r  6%|▌         | 5/90 [00:02<00:40,  2.11it/s]"
          ]
        },
        {
          "output_type": "stream",
          "name": "stdout",
          "text": [
            "Validation accuracy for epoch 4 : 0.840\n"
          ]
        },
        {
          "output_type": "stream",
          "name": "stderr",
          "text": [
            "\r  7%|▋         | 6/90 [00:02<00:39,  2.12it/s]"
          ]
        },
        {
          "output_type": "stream",
          "name": "stdout",
          "text": [
            "Validation accuracy for epoch 5 : 0.880\n"
          ]
        },
        {
          "output_type": "stream",
          "name": "stderr",
          "text": [
            "\r  8%|▊         | 7/90 [00:03<00:38,  2.15it/s]"
          ]
        },
        {
          "output_type": "stream",
          "name": "stdout",
          "text": [
            "Validation accuracy for epoch 6 : 0.913\n"
          ]
        },
        {
          "output_type": "stream",
          "name": "stderr",
          "text": [
            "\r  9%|▉         | 8/90 [00:03<00:38,  2.14it/s]"
          ]
        },
        {
          "output_type": "stream",
          "name": "stdout",
          "text": [
            "Validation accuracy for epoch 7 : 0.887\n"
          ]
        },
        {
          "output_type": "stream",
          "name": "stderr",
          "text": [
            "\r 10%|█         | 9/90 [00:04<00:37,  2.16it/s]"
          ]
        },
        {
          "output_type": "stream",
          "name": "stdout",
          "text": [
            "Validation accuracy for epoch 8 : 0.880\n"
          ]
        },
        {
          "output_type": "stream",
          "name": "stderr",
          "text": [
            "\r 11%|█         | 10/90 [00:04<00:36,  2.19it/s]"
          ]
        },
        {
          "output_type": "stream",
          "name": "stdout",
          "text": [
            "Validation accuracy for epoch 9 : 0.880\n"
          ]
        },
        {
          "output_type": "stream",
          "name": "stderr",
          "text": [
            "\r 12%|█▏        | 11/90 [00:05<00:35,  2.21it/s]"
          ]
        },
        {
          "output_type": "stream",
          "name": "stdout",
          "text": [
            "Validation accuracy for epoch 10 : 0.880\n"
          ]
        },
        {
          "output_type": "stream",
          "name": "stderr",
          "text": [
            "\r 13%|█▎        | 12/90 [00:05<00:35,  2.21it/s]"
          ]
        },
        {
          "output_type": "stream",
          "name": "stdout",
          "text": [
            "Validation accuracy for epoch 11 : 0.880\n"
          ]
        },
        {
          "output_type": "stream",
          "name": "stderr",
          "text": [
            "\r 14%|█▍        | 13/90 [00:06<00:34,  2.21it/s]"
          ]
        },
        {
          "output_type": "stream",
          "name": "stdout",
          "text": [
            "Validation accuracy for epoch 12 : 0.873\n"
          ]
        },
        {
          "output_type": "stream",
          "name": "stderr",
          "text": [
            "\r 16%|█▌        | 14/90 [00:06<00:34,  2.20it/s]"
          ]
        },
        {
          "output_type": "stream",
          "name": "stdout",
          "text": [
            "Validation accuracy for epoch 13 : 0.887\n"
          ]
        },
        {
          "output_type": "stream",
          "name": "stderr",
          "text": [
            "\r 17%|█▋        | 15/90 [00:07<00:34,  2.19it/s]"
          ]
        },
        {
          "output_type": "stream",
          "name": "stdout",
          "text": [
            "Validation accuracy for epoch 14 : 0.887\n"
          ]
        },
        {
          "output_type": "stream",
          "name": "stderr",
          "text": [
            "\r 18%|█▊        | 16/90 [00:07<00:33,  2.20it/s]"
          ]
        },
        {
          "output_type": "stream",
          "name": "stdout",
          "text": [
            "Validation accuracy for epoch 15 : 0.893\n"
          ]
        },
        {
          "output_type": "stream",
          "name": "stderr",
          "text": [
            "\r 19%|█▉        | 17/90 [00:07<00:32,  2.22it/s]"
          ]
        },
        {
          "output_type": "stream",
          "name": "stdout",
          "text": [
            "Validation accuracy for epoch 16 : 0.893\n"
          ]
        },
        {
          "output_type": "stream",
          "name": "stderr",
          "text": [
            "\r 20%|██        | 18/90 [00:08<00:32,  2.21it/s]"
          ]
        },
        {
          "output_type": "stream",
          "name": "stdout",
          "text": [
            "Validation accuracy for epoch 17 : 0.893\n"
          ]
        },
        {
          "output_type": "stream",
          "name": "stderr",
          "text": [
            "\r 21%|██        | 19/90 [00:08<00:32,  2.21it/s]"
          ]
        },
        {
          "output_type": "stream",
          "name": "stdout",
          "text": [
            "Validation accuracy for epoch 18 : 0.893\n"
          ]
        },
        {
          "output_type": "stream",
          "name": "stderr",
          "text": [
            "\r 22%|██▏       | 20/90 [00:09<00:31,  2.21it/s]"
          ]
        },
        {
          "output_type": "stream",
          "name": "stdout",
          "text": [
            "Validation accuracy for epoch 19 : 0.893\n"
          ]
        },
        {
          "output_type": "stream",
          "name": "stderr",
          "text": [
            "\r 23%|██▎       | 21/90 [00:09<00:31,  2.21it/s]"
          ]
        },
        {
          "output_type": "stream",
          "name": "stdout",
          "text": [
            "Validation accuracy for epoch 20 : 0.900\n"
          ]
        },
        {
          "output_type": "stream",
          "name": "stderr",
          "text": [
            "\r 24%|██▍       | 22/90 [00:10<00:30,  2.22it/s]"
          ]
        },
        {
          "output_type": "stream",
          "name": "stdout",
          "text": [
            "Validation accuracy for epoch 21 : 0.900\n"
          ]
        },
        {
          "output_type": "stream",
          "name": "stderr",
          "text": [
            "\r 26%|██▌       | 23/90 [00:10<00:30,  2.20it/s]"
          ]
        },
        {
          "output_type": "stream",
          "name": "stdout",
          "text": [
            "Validation accuracy for epoch 22 : 0.900\n"
          ]
        },
        {
          "output_type": "stream",
          "name": "stderr",
          "text": [
            "\r 27%|██▋       | 24/90 [00:11<00:30,  2.19it/s]"
          ]
        },
        {
          "output_type": "stream",
          "name": "stdout",
          "text": [
            "Validation accuracy for epoch 23 : 0.913\n"
          ]
        },
        {
          "output_type": "stream",
          "name": "stderr",
          "text": [
            "\r 28%|██▊       | 25/90 [00:11<00:29,  2.17it/s]"
          ]
        },
        {
          "output_type": "stream",
          "name": "stdout",
          "text": [
            "Validation accuracy for epoch 24 : 0.920\n"
          ]
        },
        {
          "output_type": "stream",
          "name": "stderr",
          "text": [
            "\r 29%|██▉       | 26/90 [00:12<00:29,  2.18it/s]"
          ]
        },
        {
          "output_type": "stream",
          "name": "stdout",
          "text": [
            "Validation accuracy for epoch 25 : 0.920\n"
          ]
        },
        {
          "output_type": "stream",
          "name": "stderr",
          "text": [
            "\r 30%|███       | 27/90 [00:12<00:28,  2.18it/s]"
          ]
        },
        {
          "output_type": "stream",
          "name": "stdout",
          "text": [
            "Validation accuracy for epoch 26 : 0.920\n"
          ]
        },
        {
          "output_type": "stream",
          "name": "stderr",
          "text": [
            "\r 31%|███       | 28/90 [00:12<00:28,  2.18it/s]"
          ]
        },
        {
          "output_type": "stream",
          "name": "stdout",
          "text": [
            "Validation accuracy for epoch 27 : 0.920\n"
          ]
        },
        {
          "output_type": "stream",
          "name": "stderr",
          "text": [
            "\r 32%|███▏      | 29/90 [00:13<00:28,  2.16it/s]"
          ]
        },
        {
          "output_type": "stream",
          "name": "stdout",
          "text": [
            "Validation accuracy for epoch 28 : 0.920\n"
          ]
        },
        {
          "output_type": "stream",
          "name": "stderr",
          "text": [
            "\r 33%|███▎      | 30/90 [00:13<00:28,  2.13it/s]"
          ]
        },
        {
          "output_type": "stream",
          "name": "stdout",
          "text": [
            "Validation accuracy for epoch 29 : 0.920\n"
          ]
        },
        {
          "output_type": "stream",
          "name": "stderr",
          "text": [
            "\r 34%|███▍      | 31/90 [00:14<00:27,  2.11it/s]"
          ]
        },
        {
          "output_type": "stream",
          "name": "stdout",
          "text": [
            "Validation accuracy for epoch 30 : 0.920\n"
          ]
        },
        {
          "output_type": "stream",
          "name": "stderr",
          "text": [
            "\r 36%|███▌      | 32/90 [00:14<00:26,  2.15it/s]"
          ]
        },
        {
          "output_type": "stream",
          "name": "stdout",
          "text": [
            "Validation accuracy for epoch 31 : 0.920\n"
          ]
        },
        {
          "output_type": "stream",
          "name": "stderr",
          "text": [
            "\r 37%|███▋      | 33/90 [00:15<00:26,  2.13it/s]"
          ]
        },
        {
          "output_type": "stream",
          "name": "stdout",
          "text": [
            "Validation accuracy for epoch 32 : 0.927\n"
          ]
        },
        {
          "output_type": "stream",
          "name": "stderr",
          "text": [
            "\r 38%|███▊      | 34/90 [00:15<00:26,  2.13it/s]"
          ]
        },
        {
          "output_type": "stream",
          "name": "stdout",
          "text": [
            "Validation accuracy for epoch 33 : 0.927\n"
          ]
        },
        {
          "output_type": "stream",
          "name": "stderr",
          "text": [
            "\r 39%|███▉      | 35/90 [00:16<00:25,  2.13it/s]"
          ]
        },
        {
          "output_type": "stream",
          "name": "stdout",
          "text": [
            "Validation accuracy for epoch 34 : 0.927\n"
          ]
        },
        {
          "output_type": "stream",
          "name": "stderr",
          "text": [
            "\r 40%|████      | 36/90 [00:16<00:25,  2.16it/s]"
          ]
        },
        {
          "output_type": "stream",
          "name": "stdout",
          "text": [
            "Validation accuracy for epoch 35 : 0.927\n"
          ]
        },
        {
          "output_type": "stream",
          "name": "stderr",
          "text": [
            "\r 41%|████      | 37/90 [00:17<00:24,  2.17it/s]"
          ]
        },
        {
          "output_type": "stream",
          "name": "stdout",
          "text": [
            "Validation accuracy for epoch 36 : 0.927\n"
          ]
        },
        {
          "output_type": "stream",
          "name": "stderr",
          "text": [
            "\r 42%|████▏     | 38/90 [00:17<00:23,  2.19it/s]"
          ]
        },
        {
          "output_type": "stream",
          "name": "stdout",
          "text": [
            "Validation accuracy for epoch 37 : 0.927\n"
          ]
        },
        {
          "output_type": "stream",
          "name": "stderr",
          "text": [
            "\r 43%|████▎     | 39/90 [00:18<00:23,  2.21it/s]"
          ]
        },
        {
          "output_type": "stream",
          "name": "stdout",
          "text": [
            "Validation accuracy for epoch 38 : 0.933\n"
          ]
        },
        {
          "output_type": "stream",
          "name": "stderr",
          "text": [
            "\r 44%|████▍     | 40/90 [00:18<00:23,  2.16it/s]"
          ]
        },
        {
          "output_type": "stream",
          "name": "stdout",
          "text": [
            "Validation accuracy for epoch 39 : 0.933\n"
          ]
        },
        {
          "output_type": "stream",
          "name": "stderr",
          "text": [
            "\r 46%|████▌     | 41/90 [00:18<00:22,  2.15it/s]"
          ]
        },
        {
          "output_type": "stream",
          "name": "stdout",
          "text": [
            "Validation accuracy for epoch 40 : 0.933\n"
          ]
        },
        {
          "output_type": "stream",
          "name": "stderr",
          "text": [
            "\r 47%|████▋     | 42/90 [00:19<00:22,  2.16it/s]"
          ]
        },
        {
          "output_type": "stream",
          "name": "stdout",
          "text": [
            "Validation accuracy for epoch 41 : 0.940\n"
          ]
        },
        {
          "output_type": "stream",
          "name": "stderr",
          "text": [
            "\r 48%|████▊     | 43/90 [00:19<00:21,  2.19it/s]"
          ]
        },
        {
          "output_type": "stream",
          "name": "stdout",
          "text": [
            "Validation accuracy for epoch 42 : 0.933\n"
          ]
        },
        {
          "output_type": "stream",
          "name": "stderr",
          "text": [
            "\r 49%|████▉     | 44/90 [00:20<00:21,  2.15it/s]"
          ]
        },
        {
          "output_type": "stream",
          "name": "stdout",
          "text": [
            "Validation accuracy for epoch 43 : 0.933\n"
          ]
        },
        {
          "output_type": "stream",
          "name": "stderr",
          "text": [
            "\r 50%|█████     | 45/90 [00:20<00:20,  2.16it/s]"
          ]
        },
        {
          "output_type": "stream",
          "name": "stdout",
          "text": [
            "Validation accuracy for epoch 44 : 0.927\n"
          ]
        },
        {
          "output_type": "stream",
          "name": "stderr",
          "text": [
            "\r 51%|█████     | 46/90 [00:21<00:20,  2.15it/s]"
          ]
        },
        {
          "output_type": "stream",
          "name": "stdout",
          "text": [
            "Validation accuracy for epoch 45 : 0.940\n"
          ]
        },
        {
          "output_type": "stream",
          "name": "stderr",
          "text": [
            "\r 52%|█████▏    | 47/90 [00:21<00:19,  2.18it/s]"
          ]
        },
        {
          "output_type": "stream",
          "name": "stdout",
          "text": [
            "Validation accuracy for epoch 46 : 0.940\n"
          ]
        },
        {
          "output_type": "stream",
          "name": "stderr",
          "text": [
            "\r 53%|█████▎    | 48/90 [00:22<00:19,  2.20it/s]"
          ]
        },
        {
          "output_type": "stream",
          "name": "stdout",
          "text": [
            "Validation accuracy for epoch 47 : 0.940\n"
          ]
        },
        {
          "output_type": "stream",
          "name": "stderr",
          "text": [
            "\r 54%|█████▍    | 49/90 [00:22<00:18,  2.20it/s]"
          ]
        },
        {
          "output_type": "stream",
          "name": "stdout",
          "text": [
            "Validation accuracy for epoch 48 : 0.940\n"
          ]
        },
        {
          "output_type": "stream",
          "name": "stderr",
          "text": [
            "\r 56%|█████▌    | 50/90 [00:23<00:18,  2.19it/s]"
          ]
        },
        {
          "output_type": "stream",
          "name": "stdout",
          "text": [
            "Validation accuracy for epoch 49 : 0.940\n"
          ]
        },
        {
          "output_type": "stream",
          "name": "stderr",
          "text": [
            "\r 57%|█████▋    | 51/90 [00:23<00:18,  2.17it/s]"
          ]
        },
        {
          "output_type": "stream",
          "name": "stdout",
          "text": [
            "Validation accuracy for epoch 50 : 0.940\n"
          ]
        },
        {
          "output_type": "stream",
          "name": "stderr",
          "text": [
            "\r 58%|█████▊    | 52/90 [00:24<00:17,  2.20it/s]"
          ]
        },
        {
          "output_type": "stream",
          "name": "stdout",
          "text": [
            "Validation accuracy for epoch 51 : 0.940\n"
          ]
        },
        {
          "output_type": "stream",
          "name": "stderr",
          "text": [
            "\r 59%|█████▉    | 53/90 [00:24<00:16,  2.20it/s]"
          ]
        },
        {
          "output_type": "stream",
          "name": "stdout",
          "text": [
            "Validation accuracy for epoch 52 : 0.940\n"
          ]
        },
        {
          "output_type": "stream",
          "name": "stderr",
          "text": [
            "\r 60%|██████    | 54/90 [00:24<00:16,  2.23it/s]"
          ]
        },
        {
          "output_type": "stream",
          "name": "stdout",
          "text": [
            "Validation accuracy for epoch 53 : 0.940\n"
          ]
        },
        {
          "output_type": "stream",
          "name": "stderr",
          "text": [
            "\r 61%|██████    | 55/90 [00:25<00:15,  2.22it/s]"
          ]
        },
        {
          "output_type": "stream",
          "name": "stdout",
          "text": [
            "Validation accuracy for epoch 54 : 0.940\n"
          ]
        },
        {
          "output_type": "stream",
          "name": "stderr",
          "text": [
            "\r 62%|██████▏   | 56/90 [00:25<00:15,  2.22it/s]"
          ]
        },
        {
          "output_type": "stream",
          "name": "stdout",
          "text": [
            "Validation accuracy for epoch 55 : 0.940\n"
          ]
        },
        {
          "output_type": "stream",
          "name": "stderr",
          "text": [
            "\r 63%|██████▎   | 57/90 [00:26<00:14,  2.21it/s]"
          ]
        },
        {
          "output_type": "stream",
          "name": "stdout",
          "text": [
            "Validation accuracy for epoch 56 : 0.940\n"
          ]
        },
        {
          "output_type": "stream",
          "name": "stderr",
          "text": [
            "\r 64%|██████▍   | 58/90 [00:26<00:14,  2.21it/s]"
          ]
        },
        {
          "output_type": "stream",
          "name": "stdout",
          "text": [
            "Validation accuracy for epoch 57 : 0.940\n"
          ]
        },
        {
          "output_type": "stream",
          "name": "stderr",
          "text": [
            "\r 66%|██████▌   | 59/90 [00:27<00:14,  2.19it/s]"
          ]
        },
        {
          "output_type": "stream",
          "name": "stdout",
          "text": [
            "Validation accuracy for epoch 58 : 0.940\n"
          ]
        },
        {
          "output_type": "stream",
          "name": "stderr",
          "text": [
            "\r 67%|██████▋   | 60/90 [00:27<00:13,  2.17it/s]"
          ]
        },
        {
          "output_type": "stream",
          "name": "stdout",
          "text": [
            "Validation accuracy for epoch 59 : 0.940\n"
          ]
        },
        {
          "output_type": "stream",
          "name": "stderr",
          "text": [
            "\r 68%|██████▊   | 61/90 [00:28<00:13,  2.19it/s]"
          ]
        },
        {
          "output_type": "stream",
          "name": "stdout",
          "text": [
            "Validation accuracy for epoch 60 : 0.933\n"
          ]
        },
        {
          "output_type": "stream",
          "name": "stderr",
          "text": [
            "\r 69%|██████▉   | 62/90 [00:28<00:12,  2.20it/s]"
          ]
        },
        {
          "output_type": "stream",
          "name": "stdout",
          "text": [
            "Validation accuracy for epoch 61 : 0.933\n"
          ]
        },
        {
          "output_type": "stream",
          "name": "stderr",
          "text": [
            "\r 70%|███████   | 63/90 [00:29<00:12,  2.22it/s]"
          ]
        },
        {
          "output_type": "stream",
          "name": "stdout",
          "text": [
            "Validation accuracy for epoch 62 : 0.933\n"
          ]
        },
        {
          "output_type": "stream",
          "name": "stderr",
          "text": [
            "\r 71%|███████   | 64/90 [00:29<00:11,  2.18it/s]"
          ]
        },
        {
          "output_type": "stream",
          "name": "stdout",
          "text": [
            "Validation accuracy for epoch 63 : 0.933\n"
          ]
        },
        {
          "output_type": "stream",
          "name": "stderr",
          "text": [
            "\r 72%|███████▏  | 65/90 [00:29<00:11,  2.20it/s]"
          ]
        },
        {
          "output_type": "stream",
          "name": "stdout",
          "text": [
            "Validation accuracy for epoch 64 : 0.933\n"
          ]
        },
        {
          "output_type": "stream",
          "name": "stderr",
          "text": [
            "\r 73%|███████▎  | 66/90 [00:30<00:10,  2.20it/s]"
          ]
        },
        {
          "output_type": "stream",
          "name": "stdout",
          "text": [
            "Validation accuracy for epoch 65 : 0.933\n"
          ]
        },
        {
          "output_type": "stream",
          "name": "stderr",
          "text": [
            "\r 74%|███████▍  | 67/90 [00:30<00:10,  2.21it/s]"
          ]
        },
        {
          "output_type": "stream",
          "name": "stdout",
          "text": [
            "Validation accuracy for epoch 66 : 0.933\n"
          ]
        },
        {
          "output_type": "stream",
          "name": "stderr",
          "text": [
            "\r 76%|███████▌  | 68/90 [00:31<00:09,  2.22it/s]"
          ]
        },
        {
          "output_type": "stream",
          "name": "stdout",
          "text": [
            "Validation accuracy for epoch 67 : 0.933\n"
          ]
        },
        {
          "output_type": "stream",
          "name": "stderr",
          "text": [
            "\r 77%|███████▋  | 69/90 [00:31<00:09,  2.21it/s]"
          ]
        },
        {
          "output_type": "stream",
          "name": "stdout",
          "text": [
            "Validation accuracy for epoch 68 : 0.933\n"
          ]
        },
        {
          "output_type": "stream",
          "name": "stderr",
          "text": [
            "\r 78%|███████▊  | 70/90 [00:32<00:09,  2.20it/s]"
          ]
        },
        {
          "output_type": "stream",
          "name": "stdout",
          "text": [
            "Validation accuracy for epoch 69 : 0.933\n"
          ]
        },
        {
          "output_type": "stream",
          "name": "stderr",
          "text": [
            "\r 79%|███████▉  | 71/90 [00:32<00:08,  2.17it/s]"
          ]
        },
        {
          "output_type": "stream",
          "name": "stdout",
          "text": [
            "Validation accuracy for epoch 70 : 0.933\n"
          ]
        },
        {
          "output_type": "stream",
          "name": "stderr",
          "text": [
            "\r 80%|████████  | 72/90 [00:33<00:08,  2.17it/s]"
          ]
        },
        {
          "output_type": "stream",
          "name": "stdout",
          "text": [
            "Validation accuracy for epoch 71 : 0.933\n"
          ]
        },
        {
          "output_type": "stream",
          "name": "stderr",
          "text": [
            "\r 81%|████████  | 73/90 [00:33<00:07,  2.13it/s]"
          ]
        },
        {
          "output_type": "stream",
          "name": "stdout",
          "text": [
            "Validation accuracy for epoch 72 : 0.933\n"
          ]
        },
        {
          "output_type": "stream",
          "name": "stderr",
          "text": [
            "\r 82%|████████▏ | 74/90 [00:34<00:07,  2.17it/s]"
          ]
        },
        {
          "output_type": "stream",
          "name": "stdout",
          "text": [
            "Validation accuracy for epoch 73 : 0.933\n"
          ]
        },
        {
          "output_type": "stream",
          "name": "stderr",
          "text": [
            "\r 83%|████████▎ | 75/90 [00:34<00:06,  2.18it/s]"
          ]
        },
        {
          "output_type": "stream",
          "name": "stdout",
          "text": [
            "Validation accuracy for epoch 74 : 0.933\n"
          ]
        },
        {
          "output_type": "stream",
          "name": "stderr",
          "text": [
            "\r 84%|████████▍ | 76/90 [00:34<00:06,  2.20it/s]"
          ]
        },
        {
          "output_type": "stream",
          "name": "stdout",
          "text": [
            "Validation accuracy for epoch 75 : 0.933\n"
          ]
        },
        {
          "output_type": "stream",
          "name": "stderr",
          "text": [
            "\r 86%|████████▌ | 77/90 [00:35<00:05,  2.19it/s]"
          ]
        },
        {
          "output_type": "stream",
          "name": "stdout",
          "text": [
            "Validation accuracy for epoch 76 : 0.933\n"
          ]
        },
        {
          "output_type": "stream",
          "name": "stderr",
          "text": [
            "\r 87%|████████▋ | 78/90 [00:35<00:05,  2.16it/s]"
          ]
        },
        {
          "output_type": "stream",
          "name": "stdout",
          "text": [
            "Validation accuracy for epoch 77 : 0.933\n"
          ]
        },
        {
          "output_type": "stream",
          "name": "stderr",
          "text": [
            "\r 88%|████████▊ | 79/90 [00:36<00:05,  2.17it/s]"
          ]
        },
        {
          "output_type": "stream",
          "name": "stdout",
          "text": [
            "Validation accuracy for epoch 78 : 0.933\n"
          ]
        },
        {
          "output_type": "stream",
          "name": "stderr",
          "text": [
            "\r 89%|████████▉ | 80/90 [00:36<00:04,  2.18it/s]"
          ]
        },
        {
          "output_type": "stream",
          "name": "stdout",
          "text": [
            "Validation accuracy for epoch 79 : 0.933\n"
          ]
        },
        {
          "output_type": "stream",
          "name": "stderr",
          "text": [
            "\r 90%|█████████ | 81/90 [00:37<00:04,  2.17it/s]"
          ]
        },
        {
          "output_type": "stream",
          "name": "stdout",
          "text": [
            "Validation accuracy for epoch 80 : 0.933\n"
          ]
        },
        {
          "output_type": "stream",
          "name": "stderr",
          "text": [
            "\r 91%|█████████ | 82/90 [00:37<00:03,  2.16it/s]"
          ]
        },
        {
          "output_type": "stream",
          "name": "stdout",
          "text": [
            "Validation accuracy for epoch 81 : 0.933\n"
          ]
        },
        {
          "output_type": "stream",
          "name": "stderr",
          "text": [
            "\r 92%|█████████▏| 83/90 [00:38<00:03,  2.16it/s]"
          ]
        },
        {
          "output_type": "stream",
          "name": "stdout",
          "text": [
            "Validation accuracy for epoch 82 : 0.933\n"
          ]
        },
        {
          "output_type": "stream",
          "name": "stderr",
          "text": [
            "\r 93%|█████████▎| 84/90 [00:38<00:02,  2.13it/s]"
          ]
        },
        {
          "output_type": "stream",
          "name": "stdout",
          "text": [
            "Validation accuracy for epoch 83 : 0.933\n"
          ]
        },
        {
          "output_type": "stream",
          "name": "stderr",
          "text": [
            "\r 94%|█████████▍| 85/90 [00:39<00:02,  2.15it/s]"
          ]
        },
        {
          "output_type": "stream",
          "name": "stdout",
          "text": [
            "Validation accuracy for epoch 84 : 0.933\n"
          ]
        },
        {
          "output_type": "stream",
          "name": "stderr",
          "text": [
            "\r 96%|█████████▌| 86/90 [00:39<00:01,  2.14it/s]"
          ]
        },
        {
          "output_type": "stream",
          "name": "stdout",
          "text": [
            "Validation accuracy for epoch 85 : 0.933\n"
          ]
        },
        {
          "output_type": "stream",
          "name": "stderr",
          "text": [
            "\r 97%|█████████▋| 87/90 [00:40<00:01,  2.17it/s]"
          ]
        },
        {
          "output_type": "stream",
          "name": "stdout",
          "text": [
            "Validation accuracy for epoch 86 : 0.933\n"
          ]
        },
        {
          "output_type": "stream",
          "name": "stderr",
          "text": [
            "\r 98%|█████████▊| 88/90 [00:40<00:00,  2.20it/s]"
          ]
        },
        {
          "output_type": "stream",
          "name": "stdout",
          "text": [
            "Validation accuracy for epoch 87 : 0.933\n"
          ]
        },
        {
          "output_type": "stream",
          "name": "stderr",
          "text": [
            "\r 99%|█████████▉| 89/90 [00:40<00:00,  2.21it/s]"
          ]
        },
        {
          "output_type": "stream",
          "name": "stdout",
          "text": [
            "Validation accuracy for epoch 88 : 0.933\n"
          ]
        },
        {
          "output_type": "stream",
          "name": "stderr",
          "text": [
            "100%|██████████| 90/90 [00:41<00:00,  2.17it/s]"
          ]
        },
        {
          "output_type": "stream",
          "name": "stdout",
          "text": [
            "Validation accuracy for epoch 89 : 0.933\n"
          ]
        },
        {
          "output_type": "stream",
          "name": "stderr",
          "text": [
            "\n"
          ]
        }
      ]
    },
    {
      "cell_type": "code",
      "source": [],
      "metadata": {
        "id": "fg0VeqsOjTKX"
      },
      "id": "fg0VeqsOjTKX",
      "execution_count": null,
      "outputs": []
    },
    {
      "cell_type": "code",
      "source": [
        "plt.figure(figsize = (13, 9))\n",
        "\n",
        "\n",
        "plt.plot(train_loss_list, linewidth = 3)\n",
        "plt.xticks(fontsize=18)\n",
        "plt.yticks(fontsize=18)\n",
        "plt.xlabel('Epoch',Fontsize=15)\n",
        "plt.ylabel('Loss',Fontsize= 15)\n",
        "plt.title('FCN Training Loss',Fontsize= 20)\n",
        "plt.show()"
      ],
      "metadata": {
        "colab": {
          "base_uri": "https://localhost:8080/",
          "height": 585
        },
        "id": "CE5EOk8FaokJ",
        "outputId": "c97a0435-cd11-44a1-e25c-22cdf223729a"
      },
      "id": "CE5EOk8FaokJ",
      "execution_count": null,
      "outputs": [
        {
          "output_type": "display_data",
          "data": {
            "text/plain": [
              "<Figure size 936x648 with 1 Axes>"
            ],
            "image/png": "[encoded data removed]"
          },
          "metadata": {
            "needs_background": "light"
          }
        }
      ]
    },
    {
      "cell_type": "markdown",
      "source": [],
      "metadata": {
        "id": "ZwmmnOCexiP8"
      },
      "id": "ZwmmnOCexiP8"
    },
    {
      "cell_type": "markdown",
      "source": [
        "## Visualize & Evaluate Fully Connected Model (Filtered)"
      ],
      "metadata": {
        "id": "PXWjgzDesJ3U"
      },
      "id": "PXWjgzDesJ3U"
    },
    {
      "cell_type": "code",
      "source": [
        "# Tests the model's accuracy with data set aside for testing purposes\n",
        "emot_testing_fc = emot_filtered_norm_np[1900:,:-1].astype('float')\n",
        "\n",
        "test_input_seqs_fc = torch.from_numpy(emot_testing_fc).float()\n",
        "test_output_seqs_fc = torch.from_numpy(emot_testing_target).long()\n",
        "\n",
        "test_accuracy_list = []\n",
        "correct_test = []\n",
        "test_accur = []\n",
        "test_out = emotion_fc(test_input_seqs_fc)\n",
        "correct_test = (torch.argmax(test_out, dim = 1) == \n",
        "                 test_output_seqs_fc).type(torch.FloatTensor)\n",
        "# Finds accuracy based on 1 representing the model predicting correctly and 0 being an inaccurate prediction\n",
        "print('Testing accuracy: {:.3f}'.format((float)(correct_test.mean())))\n"
      ],
      "metadata": {
        "colab": {
          "base_uri": "https://localhost:8080/"
        },
        "id": "zhsnwThqeZyv",
        "outputId": "0d5909b7-a8bd-4486-f91c-575e3ca05157"
      },
      "id": "zhsnwThqeZyv",
      "execution_count": null,
      "outputs": [
        {
          "output_type": "stream",
          "name": "stdout",
          "text": [
            "Testing accuracy: 0.922\n"
          ]
        }
      ]
    },
    {
      "cell_type": "code",
      "source": [
        "#Generate the confusion matrix\n",
        "cf_matrix = confusion_matrix(torch.argmax(test_out, dim = 1),test_output_seqs_fc)\n",
        "\n",
        "\n",
        "ax = sns.heatmap(cf_matrix, annot=True, cmap='Blues')\n",
        "\n",
        "ax.set_title('FCN Testing Confusion Matrix\\n\\n');\n",
        "ax.set_xlabel('\\nPredicted Emotion State')\n",
        "ax.set_ylabel('Actual Emotion State');\n",
        "\n",
        "## Ticket labels - List must be in alphabetical order\n",
        "ax.xaxis.set_ticklabels(['Positive','Negative', 'Neutral'])\n",
        "ax.yaxis.set_ticklabels(['Positive','Negative', 'Neutral'])\n",
        "\n",
        "## Display the visualization of the Confusion Matrix.\n",
        "plt.show()\n",
        "\n",
        "\n"
      ],
      "metadata": {
        "id": "mhs2yPjCsndQ",
        "colab": {
          "base_uri": "https://localhost:8080/",
          "height": 337
        },
        "outputId": "45f132e7-25db-4492-c7a8-5209bd22dc00"
      },
      "id": "mhs2yPjCsndQ",
      "execution_count": null,
      "outputs": [
        {
          "output_type": "display_data",
          "data": {
            "text/plain": [
              "<Figure size 432x288 with 2 Axes>"
            ],
            "image/png": "[encoded data removed]"
          },
          "metadata": {
            "needs_background": "light"
          }
        }
      ]
    },
    {
      "cell_type": "markdown",
      "source": [
        "## Define Fully Connected Model (Using Unfiltered Features)"
      ],
      "metadata": {
        "id": "NrGKbUTVfDnr"
      },
      "id": "NrGKbUTVfDnr"
    },
    {
      "cell_type": "markdown",
      "source": [],
      "metadata": {
        "id": "Bh1CzxqJe8Bt"
      },
      "id": "Bh1CzxqJe8Bt"
    },
    {
      "cell_type": "code",
      "source": [
        "class Emotion_UFC(torch.nn.Module):\n",
        "  # Inputs:\n",
        "        # input_dim:   Dimension of input data to be fed into the model\n",
        "        # hidden_dim1: Dimension of first hidden layer, corresponding to its output after processing input_dim data\n",
        "        # hidden_dim2: Dimension of the second hidden layer, processing inputs from hidden_dim1\n",
        "        # output_dim:  Dimension of final output after data from hidden_dim2 has been processed\n",
        "    def __init__(self, input_dim, hidden_dim1, hidden_dim2, hidden_dim3, hidden_dim4, output_dim):\n",
        "        super(Emotion_UFC, self).__init__()\n",
        "\n",
        "        self.layer1 = torch.nn.Linear(input_dim, hidden_dim1)\n",
        "        self.layer2 = torch.nn.Linear(hidden_dim1, hidden_dim2)\n",
        "        self.layer3 = torch.nn.Linear(hidden_dim2, hidden_dim3)\n",
        "        self.layer4 = torch.nn.Linear(hidden_dim3, hidden_dim4)\n",
        "        self.layer5 = torch.nn.Linear(hidden_dim4, output_dim)\n",
        "        self.batch_norm1 = torch.nn.BatchNorm1d(hidden_dim1)\n",
        "        self.batch_norm2 = torch.nn.BatchNorm1d(hidden_dim2)\n",
        "        self.batch_norm3 = torch.nn.BatchNorm1d(hidden_dim3)\n",
        "        self.batch_norm4 = torch.nn.BatchNorm1d(hidden_dim4)\n",
        "\n",
        "    def forward(self, x):\n",
        "        \n",
        "        # Normalizes before passing through a ReLU activation function\n",
        "        out1 = self.layer1(x)\n",
        "        out1 = self.batch_norm1(out1)\n",
        "        out1 = torch.nn.functional.relu(out1)\n",
        "        \n",
        "        out2 = self.layer2(out1)\n",
        "        out2 = self.batch_norm2(out2)\n",
        "        out2 = torch.nn.functional.relu(out2)\n",
        "\n",
        "        out3 = self.layer3(out2)\n",
        "        out3 = self.batch_norm3(out3)\n",
        "        out3 = torch.nn.functional.relu(out3)\n",
        "\n",
        "        out4 = self.layer4(out3)\n",
        "        out4 = self.batch_norm4(out4)\n",
        "        out4 = torch.nn.functional.relu(out4)\n",
        "                \n",
        "        \n",
        "        out = self.layer5(out4)\n",
        "        \n",
        "        return out"
      ],
      "metadata": {
        "id": "2oPKTc4_Y7p7"
      },
      "id": "2oPKTc4_Y7p7",
      "execution_count": null,
      "outputs": []
    },
    {
      "cell_type": "markdown",
      "source": [
        "## Define Hyperparameters for Fully Connected Model (Unfiltered)"
      ],
      "metadata": {
        "id": "qG4AWLSHfZGL"
      },
      "id": "qG4AWLSHfZGL"
    },
    {
      "cell_type": "code",
      "source": [
        "emot_testing_ufc = emot_norm_test.to_numpy()\n",
        "emot_testing_ufc = emot_testing_ufc[:,:-1].astype('float')\n",
        "emot_training_ufc = emot_norm[0:1900].to_numpy()\n",
        "emot_training_ufc = emot_training_ufc[:,:-1].astype('float')\n",
        "print(np.shape(emot_training_ufc))\n",
        "\n",
        "# Define a fully connected neural network\n",
        "emotion_ufc = Emotion_UFC(emot_training_ufc.shape[1],5000,3000,750,300,3)\n",
        "\n",
        "# Learning rate and epoch \n",
        "learning_rate = 0.00021 \n",
        "epochs = 30\n",
        "\n",
        "# Loss function and optimizer\n",
        "loss_func_ufc = torch.nn.CrossEntropyLoss()\n",
        "optimizer_ufc = torch.optim.Adam(emotion_ufc.parameters(), lr = learning_rate)\n",
        "\n",
        "# Run this line if you have PyTorch GPU version\n",
        "if torch.cuda.is_available():\n",
        "    emotion_ufc.cuda()\n",
        "\n",
        "emotion_ufc\n"
      ],
      "metadata": {
        "colab": {
          "base_uri": "https://localhost:8080/"
        },
        "id": "2uM_i2gWLpEx",
        "outputId": "4ff0c6ea-293a-45ca-c05a-7c0797d70942"
      },
      "id": "2uM_i2gWLpEx",
      "execution_count": null,
      "outputs": [
        {
          "output_type": "stream",
          "name": "stdout",
          "text": [
            "(1900, 2548)\n"
          ]
        },
        {
          "output_type": "execute_result",
          "data": {
            "text/plain": [
              "Emotion_UFC(\n",
              "  (layer1): Linear(in_features=2548, out_features=5000, bias=True)\n",
              "  (layer2): Linear(in_features=5000, out_features=3000, bias=True)\n",
              "  (layer3): Linear(in_features=3000, out_features=750, bias=True)\n",
              "  (layer4): Linear(in_features=750, out_features=300, bias=True)\n",
              "  (layer5): Linear(in_features=300, out_features=3, bias=True)\n",
              "  (batch_norm1): BatchNorm1d(5000, eps=1e-05, momentum=0.1, affine=True, track_running_stats=True)\n",
              "  (batch_norm2): BatchNorm1d(3000, eps=1e-05, momentum=0.1, affine=True, track_running_stats=True)\n",
              "  (batch_norm3): BatchNorm1d(750, eps=1e-05, momentum=0.1, affine=True, track_running_stats=True)\n",
              "  (batch_norm4): BatchNorm1d(300, eps=1e-05, momentum=0.1, affine=True, track_running_stats=True)\n",
              ")"
            ]
          },
          "metadata": {},
          "execution_count": 29
        }
      ]
    },
    {
      "cell_type": "markdown",
      "source": [
        "## Train Fully Connected Model (Unfiltered)"
      ],
      "metadata": {
        "id": "T0BkYI11fgoU"
      },
      "id": "T0BkYI11fgoU"
    },
    {
      "cell_type": "code",
      "source": [
        "import tqdm\n",
        "\n",
        "# Convert input data and output targets to torch tensors\n",
        "emot_training_ufc2 = emot_training_ufc[0:-150]\n",
        "emot_validate_ufc = emot_training_ufc[-150:]\n",
        "emot_training_target2 = emot_training_target[0:-150]\n",
        "emot_validate_target = emot_training_target[-150:]\n",
        "\n",
        "\n",
        "train_input_seqs_ufc = torch.from_numpy(emot_training_ufc2).float()\n",
        "train_input_seqs_ufc = train_input_seqs_ufc.reshape(train_input_seqs_ufc.shape[0],-1).float()\n",
        "valid_input_seqs_ufc = torch.from_numpy(emot_validate_ufc).float()\n",
        "valid_input_seqs_ufc = valid_input_seqs_ufc.reshape(valid_input_seqs_ufc.shape[0],-1).float()\n",
        "\n",
        "\n",
        "train_output_seqs_ufc = torch.from_numpy(emot_training_target2).long()\n",
        "valid_output_seqs_ufc = torch.from_numpy(emot_validate_target).long()\n",
        "\n",
        "train_loss_list = []\n",
        "correct_valid = []\n",
        "\n",
        "\n",
        "# Train the fully connected model\n",
        "for epoch in tqdm.trange(epochs):\n",
        "    \n",
        "    optimizer_ufc.zero_grad() # Reset the gradient for each learning attempt\n",
        "    training_outputs = emotion_ufc(train_input_seqs_ufc)\n",
        "    \n",
        "    loss = loss_func_ufc(training_outputs,train_output_seqs_ufc) # Checks the model against expected results\n",
        "    train_loss_list.append(loss.item())\n",
        "    loss.backward()\n",
        "    optimizer_ufc.step() # Update model weights\n",
        "\n",
        "    with torch.no_grad():\n",
        "      validate_out_ufc = emotion_ufc(valid_input_seqs_ufc)\n",
        "      correct_valid = (torch.argmax(validate_out_ufc, dim = 1) == \n",
        "                 valid_output_seqs_ufc).type(torch.FloatTensor)\n",
        "      print('Validation accuracy for epoch',epoch, ': {:.3f}'.format((float)(correct_valid.mean())))"
      ],
      "metadata": {
        "colab": {
          "base_uri": "https://localhost:8080/"
        },
        "id": "0gppNI1KO0xr",
        "outputId": "66ff0d10-161e-4a10-d978-dc3305f60388"
      },
      "id": "0gppNI1KO0xr",
      "execution_count": null,
      "outputs": [
        {
          "output_type": "stream",
          "name": "stderr",
          "text": [
            "  3%|▎         | 1/30 [00:07<03:49,  7.92s/it]"
          ]
        },
        {
          "output_type": "stream",
          "name": "stdout",
          "text": [
            "Validation accuracy for epoch 0 : 0.900\n"
          ]
        },
        {
          "output_type": "stream",
          "name": "stderr",
          "text": [
            "\r  7%|▋         | 2/30 [00:12<02:49,  6.07s/it]"
          ]
        },
        {
          "output_type": "stream",
          "name": "stdout",
          "text": [
            "Validation accuracy for epoch 1 : 0.927\n"
          ]
        },
        {
          "output_type": "stream",
          "name": "stderr",
          "text": [
            "\r 10%|█         | 3/30 [00:17<02:32,  5.64s/it]"
          ]
        },
        {
          "output_type": "stream",
          "name": "stdout",
          "text": [
            "Validation accuracy for epoch 2 : 0.933\n"
          ]
        },
        {
          "output_type": "stream",
          "name": "stderr",
          "text": [
            "\r 13%|█▎        | 4/30 [00:23<02:30,  5.77s/it]"
          ]
        },
        {
          "output_type": "stream",
          "name": "stdout",
          "text": [
            "Validation accuracy for epoch 3 : 0.927\n"
          ]
        },
        {
          "output_type": "stream",
          "name": "stderr",
          "text": [
            "\r 17%|█▋        | 5/30 [00:28<02:18,  5.55s/it]"
          ]
        },
        {
          "output_type": "stream",
          "name": "stdout",
          "text": [
            "Validation accuracy for epoch 4 : 0.940\n"
          ]
        },
        {
          "output_type": "stream",
          "name": "stderr",
          "text": [
            "\r 20%|██        | 6/30 [00:34<02:13,  5.55s/it]"
          ]
        },
        {
          "output_type": "stream",
          "name": "stdout",
          "text": [
            "Validation accuracy for epoch 5 : 0.947\n"
          ]
        },
        {
          "output_type": "stream",
          "name": "stderr",
          "text": [
            "\r 23%|██▎       | 7/30 [00:39<02:01,  5.27s/it]"
          ]
        },
        {
          "output_type": "stream",
          "name": "stdout",
          "text": [
            "Validation accuracy for epoch 6 : 0.953\n"
          ]
        },
        {
          "output_type": "stream",
          "name": "stderr",
          "text": [
            "\r 27%|██▋       | 8/30 [00:43<01:51,  5.09s/it]"
          ]
        },
        {
          "output_type": "stream",
          "name": "stdout",
          "text": [
            "Validation accuracy for epoch 7 : 0.967\n"
          ]
        },
        {
          "output_type": "stream",
          "name": "stderr",
          "text": [
            "\r 30%|███       | 9/30 [00:48<01:44,  4.97s/it]"
          ]
        },
        {
          "output_type": "stream",
          "name": "stdout",
          "text": [
            "Validation accuracy for epoch 8 : 0.967\n"
          ]
        },
        {
          "output_type": "stream",
          "name": "stderr",
          "text": [
            "\r 33%|███▎      | 10/30 [00:53<01:38,  4.92s/it]"
          ]
        },
        {
          "output_type": "stream",
          "name": "stdout",
          "text": [
            "Validation accuracy for epoch 9 : 0.967\n"
          ]
        },
        {
          "output_type": "stream",
          "name": "stderr",
          "text": [
            "\r 37%|███▋      | 11/30 [00:58<01:32,  4.88s/it]"
          ]
        },
        {
          "output_type": "stream",
          "name": "stdout",
          "text": [
            "Validation accuracy for epoch 10 : 0.960\n"
          ]
        },
        {
          "output_type": "stream",
          "name": "stderr",
          "text": [
            "\r 40%|████      | 12/30 [01:02<01:27,  4.84s/it]"
          ]
        },
        {
          "output_type": "stream",
          "name": "stdout",
          "text": [
            "Validation accuracy for epoch 11 : 0.960\n"
          ]
        },
        {
          "output_type": "stream",
          "name": "stderr",
          "text": [
            "\r 43%|████▎     | 13/30 [01:07<01:22,  4.83s/it]"
          ]
        },
        {
          "output_type": "stream",
          "name": "stdout",
          "text": [
            "Validation accuracy for epoch 12 : 0.960\n"
          ]
        },
        {
          "output_type": "stream",
          "name": "stderr",
          "text": [
            "\r 47%|████▋     | 14/30 [01:12<01:16,  4.80s/it]"
          ]
        },
        {
          "output_type": "stream",
          "name": "stdout",
          "text": [
            "Validation accuracy for epoch 13 : 0.960\n"
          ]
        },
        {
          "output_type": "stream",
          "name": "stderr",
          "text": [
            "\r 50%|█████     | 15/30 [01:17<01:11,  4.79s/it]"
          ]
        },
        {
          "output_type": "stream",
          "name": "stdout",
          "text": [
            "Validation accuracy for epoch 14 : 0.960\n"
          ]
        },
        {
          "output_type": "stream",
          "name": "stderr",
          "text": [
            "\r 53%|█████▎    | 16/30 [01:21<01:06,  4.77s/it]"
          ]
        },
        {
          "output_type": "stream",
          "name": "stdout",
          "text": [
            "Validation accuracy for epoch 15 : 0.960\n"
          ]
        },
        {
          "output_type": "stream",
          "name": "stderr",
          "text": [
            "\r 57%|█████▋    | 17/30 [01:26<01:01,  4.76s/it]"
          ]
        },
        {
          "output_type": "stream",
          "name": "stdout",
          "text": [
            "Validation accuracy for epoch 16 : 0.960\n"
          ]
        },
        {
          "output_type": "stream",
          "name": "stderr",
          "text": [
            "\r 60%|██████    | 18/30 [01:32<00:59,  4.93s/it]"
          ]
        },
        {
          "output_type": "stream",
          "name": "stdout",
          "text": [
            "Validation accuracy for epoch 17 : 0.960\n"
          ]
        },
        {
          "output_type": "stream",
          "name": "stderr",
          "text": [
            "\r 63%|██████▎   | 19/30 [01:36<00:53,  4.86s/it]"
          ]
        },
        {
          "output_type": "stream",
          "name": "stdout",
          "text": [
            "Validation accuracy for epoch 18 : 0.960\n"
          ]
        },
        {
          "output_type": "stream",
          "name": "stderr",
          "text": [
            "\r 67%|██████▋   | 20/30 [01:41<00:48,  4.82s/it]"
          ]
        },
        {
          "output_type": "stream",
          "name": "stdout",
          "text": [
            "Validation accuracy for epoch 19 : 0.960\n"
          ]
        },
        {
          "output_type": "stream",
          "name": "stderr",
          "text": [
            "\r 70%|███████   | 21/30 [01:46<00:43,  4.80s/it]"
          ]
        },
        {
          "output_type": "stream",
          "name": "stdout",
          "text": [
            "Validation accuracy for epoch 20 : 0.960\n"
          ]
        },
        {
          "output_type": "stream",
          "name": "stderr",
          "text": [
            "\r 73%|███████▎  | 22/30 [01:50<00:38,  4.78s/it]"
          ]
        },
        {
          "output_type": "stream",
          "name": "stdout",
          "text": [
            "Validation accuracy for epoch 21 : 0.960\n"
          ]
        },
        {
          "output_type": "stream",
          "name": "stderr",
          "text": [
            "\r 77%|███████▋  | 23/30 [01:55<00:33,  4.82s/it]"
          ]
        },
        {
          "output_type": "stream",
          "name": "stdout",
          "text": [
            "Validation accuracy for epoch 22 : 0.960\n"
          ]
        },
        {
          "output_type": "stream",
          "name": "stderr",
          "text": [
            "\r 80%|████████  | 24/30 [02:00<00:28,  4.80s/it]"
          ]
        },
        {
          "output_type": "stream",
          "name": "stdout",
          "text": [
            "Validation accuracy for epoch 23 : 0.960\n"
          ]
        },
        {
          "output_type": "stream",
          "name": "stderr",
          "text": [
            "\r 83%|████████▎ | 25/30 [02:06<00:25,  5.19s/it]"
          ]
        },
        {
          "output_type": "stream",
          "name": "stdout",
          "text": [
            "Validation accuracy for epoch 24 : 0.960\n"
          ]
        },
        {
          "output_type": "stream",
          "name": "stderr",
          "text": [
            "\r 87%|████████▋ | 26/30 [02:11<00:20,  5.06s/it]"
          ]
        },
        {
          "output_type": "stream",
          "name": "stdout",
          "text": [
            "Validation accuracy for epoch 25 : 0.960\n"
          ]
        },
        {
          "output_type": "stream",
          "name": "stderr",
          "text": [
            "\r 90%|█████████ | 27/30 [02:16<00:14,  4.95s/it]"
          ]
        },
        {
          "output_type": "stream",
          "name": "stdout",
          "text": [
            "Validation accuracy for epoch 26 : 0.967\n"
          ]
        },
        {
          "output_type": "stream",
          "name": "stderr",
          "text": [
            "\r 93%|█████████▎| 28/30 [02:20<00:09,  4.88s/it]"
          ]
        },
        {
          "output_type": "stream",
          "name": "stdout",
          "text": [
            "Validation accuracy for epoch 27 : 0.967\n"
          ]
        },
        {
          "output_type": "stream",
          "name": "stderr",
          "text": [
            "\r 97%|█████████▋| 29/30 [02:25<00:04,  4.85s/it]"
          ]
        },
        {
          "output_type": "stream",
          "name": "stdout",
          "text": [
            "Validation accuracy for epoch 28 : 0.967\n"
          ]
        },
        {
          "output_type": "stream",
          "name": "stderr",
          "text": [
            "100%|██████████| 30/30 [02:30<00:00,  5.01s/it]"
          ]
        },
        {
          "output_type": "stream",
          "name": "stdout",
          "text": [
            "Validation accuracy for epoch 29 : 0.967\n"
          ]
        },
        {
          "output_type": "stream",
          "name": "stderr",
          "text": [
            "\n"
          ]
        }
      ]
    },
    {
      "cell_type": "code",
      "source": [
        "plt.figure(figsize = (13, 5))\n",
        "\n",
        "plt.plot(train_loss_list, linewidth = 3)\n",
        "plt.xticks(fontsize=18)\n",
        "plt.yticks(fontsize=18)\n",
        "plt.xlabel('Per Epoch',Fontsize=25)\n",
        "plt.ylabel('Loss',Fontsize= 25)\n",
        "plt.title('Unfiltered FCN Training Loss',Fontsize= 35)\n",
        "plt.show()\n",
        "\n",
        "print(100-train_loss_list[-1])"
      ],
      "metadata": {
        "colab": {
          "base_uri": "https://localhost:8080/",
          "height": 407
        },
        "id": "jkFmUmRVN985",
        "outputId": "fb76ffed-c797-45fd-fe11-fc00b4d5c40c"
      },
      "id": "jkFmUmRVN985",
      "execution_count": null,
      "outputs": [
        {
          "output_type": "display_data",
          "data": {
            "text/plain": [
              "<Figure size 936x360 with 1 Axes>"
            ],
            "image/png": "[encoded data removed]"
          },
          "metadata": {
            "needs_background": "light"
          }
        },
        {
          "output_type": "stream",
          "name": "stdout",
          "text": [
            "99.9931521397084\n"
          ]
        }
      ]
    },
    {
      "cell_type": "markdown",
      "source": [
        "## Visualize & Evaluate Fully Connected Model *(Unfiltered)*"
      ],
      "metadata": {
        "id": "LeOiO_YsCmwI"
      },
      "id": "LeOiO_YsCmwI"
    },
    {
      "cell_type": "code",
      "source": [
        "#emot_testing_ufc = emot_norm_test.to_numpy()\n",
        "\n",
        "#emot_testing_ufc = emot_testing_ufc[:,:-1].astype('float')\n",
        "\n",
        "test_input_seqs_ufc = torch.from_numpy(emot_testing_ufc).float()\n",
        "test_output_seqs_ufc = torch.from_numpy(emot_testing_target).long()\n",
        "\n",
        "test_accuracy_list = []\n",
        "correct_test = []\n",
        "\n",
        "test_out = emotion_ufc(test_input_seqs_ufc)\n",
        "correct_test = (torch.argmax(test_out, dim = 1) == \n",
        "                 test_output_seqs_ufc).type(torch.FloatTensor)\n",
        "# Finds accuracy based on 1 representing the model predicting correctly and 0 being an inaccurate prediction\n",
        "test_accuracy_list.append(correct_test.mean())\n",
        "print('Testing accuracy: {:.3f}'.format((float)(correct_test.mean())))"
      ],
      "metadata": {
        "colab": {
          "base_uri": "https://localhost:8080/"
        },
        "id": "tT3Ad38BCyI1",
        "outputId": "3a052aad-a566-4280-c40c-468fab51ac6e"
      },
      "id": "tT3Ad38BCyI1",
      "execution_count": null,
      "outputs": [
        {
          "output_type": "stream",
          "name": "stdout",
          "text": [
            "Testing accuracy: 0.974\n"
          ]
        }
      ]
    },
    {
      "cell_type": "code",
      "source": [
        "#Generate the confusion matrix\n",
        "cf_matrix = confusion_matrix(torch.argmax(test_out, dim = 1),test_output_seqs_ufc)\n",
        "\n",
        "\n",
        "ax = sns.heatmap(cf_matrix, annot=True, cmap='Blues')\n",
        "\n",
        "ax.set_title('Unflitered FCN Testing Confusion Matrix\\n\\n');\n",
        "ax.set_xlabel('\\nPredicted Emotion State')\n",
        "ax.set_ylabel('Actual Emotion State');\n",
        "\n",
        "## Ticket labels - List must be in alphabetical order\n",
        "ax.xaxis.set_ticklabels(['Positive','Negative', 'Neutral'])\n",
        "ax.yaxis.set_ticklabels(['Positive','Negative', 'Neutral'])\n",
        "\n",
        "## Display the visualization of the Confusion Matrix.\n",
        "plt.show()\n",
        "\n"
      ],
      "metadata": {
        "colab": {
          "base_uri": "https://localhost:8080/",
          "height": 337
        },
        "id": "3wjscXs1fpCg",
        "outputId": "3bf8300c-350b-4350-e86b-fd99ac79980f"
      },
      "id": "3wjscXs1fpCg",
      "execution_count": null,
      "outputs": [
        {
          "output_type": "display_data",
          "data": {
            "text/plain": [
              "<Figure size 432x288 with 2 Axes>"
            ],
            "image/png": "[encoded data removed]"
          },
          "metadata": {
            "needs_background": "light"
          }
        }
      ]
    },
    {
      "cell_type": "code",
      "source": [],
      "metadata": {
        "id": "pVemNThWtIpD"
      },
      "id": "pVemNThWtIpD",
      "execution_count": null,
      "outputs": []
    }
  ],
  "metadata": {
    "kernelspec": {
      "display_name": "Python 3",
      "language": "python",
      "name": "python3"
    },
    "language_info": {
      "codemirror_mode": {
        "name": "ipython",
        "version": 3
      },
      "file_extension": ".py",
      "mimetype": "text/x-python",
      "name": "python",
      "nbconvert_exporter": "python",
      "pygments_lexer": "ipython3",
      "version": "3.8.8"
    },
    "colab": {
      "provenance": []
    }
  },
  "nbformat": 4,
  "nbformat_minor": 5
}